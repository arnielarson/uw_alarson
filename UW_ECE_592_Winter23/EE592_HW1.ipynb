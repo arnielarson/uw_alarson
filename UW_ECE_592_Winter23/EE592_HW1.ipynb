{
 "cells": [
  {
   "cell_type": "markdown",
   "metadata": {},
   "source": [
    "<b>Arnie Larson<br>\n",
    "Assignment 1<br>\n",
    "January, 8, 2023</b>\n",
    "\n",
    "\n",
    "\n",
    "\n",
    "\n",
    "\n",
    "** Note - I attached some sketches at the end, as an Appendix"
   ]
  },
  {
   "cell_type": "markdown",
   "metadata": {},
   "source": [
    "### Problem 1\n",
    "\n",
    "\n",
    "a.) So first, state in a clear sentence exactly what the electric field is.\n",
    "\n",
    "Electric Field is a vector at all ($x,y,z$), in 3d, such that if a charge is placed in the field at ($x_0,y_0,z_0$) it will feel a force of $\\bf{\\vec{F}}(x_0,y_0,z_0) = q\\bf{\\vec{E}}(x_0,y_0,z_0)$, that is at each point in space the force will be proportional to the field, with units of Force per charge, or Newtons per Coulomb.\n",
    "\n",
    "b.) Constructing a field for an arbitrary force. Consider an arbitrary force. Call it $F_x$. One can in general construct for this force a notion of field in essentially the same way that we constructed the electric field E as a way to generalize electric force. How would you do this? Describe the general property or properties that the constructed field for FX would need to have. (I.e. How does the field need to be related to the force $F_x$ ?)  \n",
    "\n",
    "Whatever physical property couples to the field, for a body with one unit of this property, the body in this field will experience 1 unit of force per unit property. \n",
    "\n",
    "c.) A Gravitational force field could be constructed in the same manner, $\\vec{F} = \\frac{Gm}{r^2}$  (**Note** I should have included a minus sign here, to indicate that the force is attractive for like charges)\n",
    "\n",
    "d.) See note \n",
    "\n",
    "e.) See note\n",
    "\n",
    "f.) The units of the gravitational field are $[F_g] = \\frac{Newtons}{kilogram}$\n",
    "\n",
    "g.) Since gravity is coupled to mass, and mass is alwasy positive, there is no way to polarize a massive body in the sense of the $\\vec{E}$ field, so gravity does not have the notion of permitivity.\n",
    "\n",
    "h.) The notion of the $\\vec{E}$ field as a force per unit charge works just fine for positive and negative charges, only the sign changes, that is the vector direction reversed.\n",
    "\n",
    "i.) The Magnetic field does not behave in this way, why?  Basically because it is also coupled to the velocity of a charge.  That is at a point $(x,y,z)$ in space, the force experienced by a charge could be in any direction orthogonal to $\\vec{B}$ at that point, disallowing this model of the field as a force field.\n"
   ]
  },
  {
   "cell_type": "markdown",
   "metadata": {},
   "source": [
    "\n",
    "### Problem 2\n",
    "\n",
    "Phenomena that aren't primarily driven by E&M - (assuming we can ignore material properties which implicitly rely on E&M)\n",
    "\n",
    "a.) Name one phenomenon we encounter regularly in life that isn’t primarily driven by electromagnetic force:  The sun: the heat coming from the sun and the main energy source for life is being driven by nuclear forces. (althouh the energy is being transmitted with E&M)\n",
    "\n",
    "b.) Name one phenomenon we encounter regularly in life that involves no electromagnetic force whatever, (things related to gravitational orbits, days and nights, tides).  So observations of day/night or tides are really not related to E&M..\n",
    "\n",
    "Honestly, I don't think we can observer anything without E&M, since bodies in a graviational field stay together via electromagnetics and QM.  Maybe the neutrino's that pass through our thumb nails "
   ]
  },
  {
   "cell_type": "markdown",
   "metadata": {},
   "source": [
    "### Problem 3\n",
    "\n",
    "a.) What is electric permittivity?  It is the means to approximate the electric field in materials due to the polarization effect of fixed charges in the material.  To the degree that the electron cloud can be stretched or moved, molecules will respond to an external $\\bf{\\vec{E}}$ field and generate an opposing electric dipole field that reduces the net $\\bf{\\vec{E}}$ field in the material.\n",
    "\n",
    "b.) Without this notion of permittivity any caculation of the field within the material would require taking into consideration the <b>enormous</b> numbers of positive and negative charges in the material, presumbaly with some knowledge of how the external field effects the localization of the charge in the material.\n",
    "\n",
    "c.) If the bound charge in a material were held firmly in place in the presence of an external $\\bf{\\vec{E}}$ field, then they wouldn't have an effect on the macroscopic field within the material.  (Although once you start thinking about what the field really is in the material, you're maybe adjacent to the nucleus or various electron clouds, and locally I would imagine the field would vary considerably, though this would also begin to exit the realm of classical $&M)"
   ]
  },
  {
   "cell_type": "markdown",
   "metadata": {},
   "source": [
    "### Problem 4\n",
    "\n",
    "Phasors:  $f(t)$ and $g(t)$ are sinusoidal functions of $\\omega$, with amplitude and phase, and are part of the set $\\{P, \\omega\\}$ of sinusoidal functions with $\\omega$.\n",
    "\n",
    "a.) Operations that are closed include:\n",
    "\n",
    "- scalar multiplication\n",
    "- addition elements\n",
    "- time delay ($t \\rightarrow t - \\tau$)\n",
    "- differentiation\n",
    "- integration\n",
    "\n",
    "b.) This set of operations compromises a linear and time invariant system.\n",
    "\n",
    "c.) In such linear systems, the steady state response will be a function in the set $\\{P, \\omega\\}$ and so one can make that assumption about the solution.\n",
    "\n",
    "d.) The systems phasor equations (via the transform) are derived from the assertion that the system is linear.  The transform is invertible and 1:1 with a solution in the time domain.  Therefore if the phasor solution obeys the phasor equations, the corresponding time domain solution must also satisfy the sytems time domain equations.\n",
    "\n",
    "e.) At least for solutions in $\\{P, \\omega\\}$, the phasor transform allows us to drop the sinusoidal time dependence.  This means the $\\omega t$ part of the sinusoid can be ignored.  However, the amplitude and phase are still unkowns and in general will be changed in an LTI system."
   ]
  },
  {
   "cell_type": "markdown",
   "metadata": {},
   "source": [
    "### Problem 5\n",
    "\n",
    "Somewhat redundant with problem 5, Phasor analysis works because with linear systems, when the steady state component of a system is desired, then adopting the phasor transform and removing the $\\omega$ time dependence can make the problem easier to solve.\n",
    "\n",
    "The transform itself is also quite fast to write down, and the inverse transform is equally easy to perform.\n"
   ]
  },
  {
   "cell_type": "markdown",
   "metadata": {},
   "source": [
    "\n",
    "### Problem 6\n",
    "\n",
    "Some quick examples with phasors\n",
    "\n",
    "- $\\tilde{E}\\thinspace = \\thinspace j35.5 \\thinspace V/m = 35.5 cos(\\omega t + 90^{\\circ}) \\thinspace V/m$\n",
    "- $\\omega$ not give for above\n",
    "- $\\tilde{V}\\thinspace = \\thinspace (4-j4) \\thinspace V = \\sqrt{32}cos(\\omega t - 45^{\\circ}) \\thinspace V$\n",
    "- $\\tilde{V}\\thinspace = \\thinspace (-4.5 e^{(-j30^{\\circ})} + 1.8 e^{(j45^{\\circ})}) \\thinspace V  = (4.5 e^{(-j150^{\\circ})} + 1.8 e^{(j45^{\\circ})}) \\thinspace V = 4.39 cos(\\omega t + 126.8^{\\circ}) \\thinspace V$\n",
    "- $\\tilde{I}\\thinspace = \\thinspace -j13 \\thinspace A = 13 cos (\\omega t - 90^{\\circ} )\\thinspace A$"
   ]
  },
  {
   "cell_type": "markdown",
   "metadata": {},
   "source": [
    "### Problem 7\n",
    "\n",
    "Write Phasor transforms, (I added a function to do the calculation, and validated solution by plotting)\n",
    "\n",
    "But in general, $sin(\\omega t ) = cos(\\omega t - \\pi / 2)$; $cos(\\omega t ) = sin(\\omega t + \\pi / 2)$\n",
    "\n",
    "- $I(t) = 12 cos( 60t + 35^{\\circ}) \\thinspace A \\rightarrow \\tilde{I} = 12 \\angle 35^{\\circ} \\thinspace A$\n",
    "- $H(t) = 11 sin( 2\\pi t + 200^{\\circ})\\thinspace A/m \\rightarrow \\tilde{H} = 11 \\angle 110^{\\circ} \\thinspace A / m$\n",
    "- $J(t) = -sin(\\pi t + 30^{\\circ}) + 3 cos(\\pi t + 45^{\\circ}) A / m^2 \\rightarrow \\tilde{J} = 3.40 \\angle 61.5^{\\circ} A / m^2$"
   ]
  },
  {
   "cell_type": "code",
   "execution_count": 2,
   "metadata": {},
   "outputs": [],
   "source": [
    "# making some quick calculations\n",
    "import numpy as np"
   ]
  },
  {
   "cell_type": "code",
   "execution_count": 12,
   "metadata": {},
   "outputs": [
    {
     "name": "stdout",
     "output_type": "stream",
     "text": [
      "4.392850039477692, 3.5227922061357857, -2.6243221108941883, 126.68445723856802\n"
     ]
    }
   ],
   "source": [
    "# calculate the amplitude and phase..\n",
    "im=np.sqrt(2)/2*1.8 + .5*4.5\n",
    "re=1.8/np.sqrt(2) - 4.5*(np.sqrt(3)/2)\n",
    "A=np.sqrt((im**2 + re**2))\n",
    "phase=np.arctan2(im,re)*180/np.pi\n",
    "print(\"{}, {}, {}, {}\".format(A,im,re,phase))"
   ]
  },
  {
   "cell_type": "code",
   "execution_count": 24,
   "metadata": {},
   "outputs": [
    {
     "name": "stdout",
     "output_type": "stream",
     "text": [
      "(4.3928500394776915, 126.68445723856803)\n",
      "(3.398957821246849, 61.51001517445343)\n",
      "(1.4142135623730951, -45.0)\n"
     ]
    }
   ],
   "source": [
    "print(phasor_add_polar(-4.5, -30, 1.8, 45))\n",
    "print(phasor_add_polar(1, 30-90+180, 3, 45))\n",
    "print(phasor_add_polar(1, 0, 1, -90))"
   ]
  },
  {
   "cell_type": "code",
   "execution_count": 18,
   "metadata": {},
   "outputs": [],
   "source": [
    "# calculate phasor addition values\n",
    "# \n",
    "def phasor_add(re1, im1, re2, im2, polar=True):\n",
    "    im=im1+im2\n",
    "    re=re1+re2\n",
    "    A=np.sqrt(im**2 + re**2)\n",
    "    phase=np.arctan2(im,re)*180/np.pi\n",
    "    if polar:\n",
    "        return A,phase\n",
    "    else:\n",
    "        return re,im\n",
    "\n",
    "\n",
    "def phasor_add_polar(mag1, ang1, mag2, ang2, polar=True):\n",
    "    ang1=np.pi*ang1/180\n",
    "    ang2=np.pi*ang2/180\n",
    "    im1=mag1*np.sin(ang1)\n",
    "    re1=mag1*np.cos(ang1)\n",
    "    im2=mag2*np.sin(ang2)\n",
    "    re2=mag2*np.cos(ang2)\n",
    "\n",
    "    im=im1+im2\n",
    "    re=re1+re2\n",
    "    A=np.sqrt(im**2 + re**2)\n",
    "    phase=np.arctan2(im,re)*180/np.pi\n",
    "    if polar:\n",
    "        return A,phase\n",
    "    else:\n",
    "        return re,im\n"
   ]
  },
  {
   "cell_type": "markdown",
   "metadata": {},
   "source": [
    "### Problem 8\n",
    "\n",
    "Analysis of linear systems is frequently done with sinusoidal steady state at one frequency, is this in principle correct?\n",
    "\n",
    "a.) This claim is incorrect in the sense that it doesn't account for transient behavior, but is correct with respect to the steady state behavior.  In principal, any input can be approximated by a sum of sinusoidal excitations, (Fourier's Theorem) and so the steady state behavior of any input can be approximated by the sum of phasor solutions to the sum of fourier components that represents the input. \n",
    "\n",
    "b.) Phasor analysis doesn't work for non linear systems because the assumption that the steady state response to a sinusoidal force will have the same frequency doesn't hold up.  \n",
    "\n",
    "For example, imagine there's a term $\\propto x(t)\\frac{d x(t)}{dt}$ if we have a driving force $A cos(\\omega t)$, when we assume a solution with that form, the non linear term will generate a $cos(\\omega t + \\phi)sin(\\omega t + \\phi)$ term which will be $\\propto sin(2 \\omega t + \\phi^{'})$ which of course invalidates our phasor transform assumption.\n",
    "\n",
    "c.) A phasor voltage might have the form $\\tilde{V} = 50 \\angle 45^{\\circ} V$, the frequency hasn't been specified here, because after the phasor transform the frequency is removed from the equations because in steady state all terms will have the same frequency component, all that we need to keep track of are amplitudes and phases."
   ]
  },
  {
   "cell_type": "markdown",
   "metadata": {},
   "source": [
    "### Problem 9\n",
    "\n",
    "Given two sinusoidal functions with phasor values, $(\\tilde{A}, \\tilde{B})$, let $\\tilde{R} = \\frac{\\tilde{A}}{\\tilde{B}}$\n",
    "\n",
    "a.) What is the real ratio of the amplitudes?  This is the maximum value of the ratio, or magnitude, $|\\tilde{R}|$.  If $\\tilde{R} = Re^{j \\phi}$ then the magnitude is $R$.  In terms of $(\\tilde{A}, \\tilde{B})$, this is just $\\frac{A}{B}$ given that $\\tilde{A} = A e^{j \\phi_A}$ and $\\tilde{B} = B e^{j \\phi_B}$\n",
    "\n",
    "\n",
    "b.) The geometric proof of this is to draw out $\\tilde{A}$ and $\\tilde{B}$ in the complex plane.  \n",
    "\n",
    "$\\tilde{A} = A cos(\\phi_A) + j A sin(\\phi_A)$ and $\\tilde{B} = B cos(\\phi_B) + j B sin(\\phi_B)$\n",
    "\n",
    "$|R| = \\sqrt{R^{*}R} = \\sqrt{\\frac{(A cos(\\phi_A) - j A sin(\\phi_A))(A cos(\\phi_A) + j A sin(\\phi_A))}{(B cos(\\phi_B) - j B sin(\\phi_B))(B cos(\\phi_B) + j B sin(\\phi_B))}} = \\frac{A}{B}$\n",
    "\n",
    "c.) The phase relation is simply the difference in the phase:  $\\phi_A - \\phi_B$.\n",
    "\n",
    "d.) This is easiest proof is to write out in polar form.  $R = \\frac{Ae^{j \\phi_A}}{Be^{j \\phi_B}} = \\frac{A}{B}e^{j (\\phi_A - \\phi_B)} = R e^{ j \\phi_R}$; therefore $\\phi_R = (\\phi_A - \\phi_B)$\n",
    "\n",
    "e.) How does this relate to impedance?  For phasor valued voltage and current, $\\tilde{V}, \\tilde{I}, \\tilde{Z} \\equiv \\frac{\\tilde{V}}{ \\tilde{I}}$\n",
    "\n",
    "This defines the maximum magnitude of the ratio between phasor voltage and current (as in a.) and the phase difference (as in c.)   The interpretation of this is that the phasor impedance relates amplitude and the phase lag of a current when the system is excited by specified sinusoidal voltage."
   ]
  },
  {
   "cell_type": "markdown",
   "metadata": {},
   "source": [
    "### Problem 10\n",
    "\n",
    "Surface waves in a body of water.  ($z$ is the horizontal distance along waves direction of travel)\n",
    "\n",
    "$p(t) = 0.75 cos( 5 \\pi t + 25 \\pi z + \\pi / 4)$\n",
    "\n",
    "$\\omega = 5 \\pi \\thinspace [rad/s]$;  $k = 25 \\pi \\thinspace [1/m] $\n",
    "\n",
    "a.) frequency in Hz:  $\\omega = 2 \\pi f \\rightarrow f = \\frac{5 \\pi}{2 \\pi} = 2.5 Hz$\n",
    "\n",
    "b.) propagation speed: $c = \\omega / k$ or $f\\lambda \\rightarrow c = 0.2 \\thinspace [m/s]$"
   ]
  },
  {
   "cell_type": "markdown",
   "metadata": {},
   "source": [
    "### Problem 11\n",
    "\n",
    "\n",
    "$E(z,t) = A cos (\\omega t - k z) $  This implicitly is a wave that extends in the $(x,y)$ plane.  At the point with $(t=0; z=0)$ this corresponds to a phase value of 0, $\\phi (z,t) = 0$; and a field with the maximum value A.  This is a wave front in the $(x,y)$ plane that propagates. \n",
    "\n",
    "If we step t forward bit by bit, the wave front will propagate along the points z where the phase remains the same ($\\phi (z,t) = 0)$; to the right, see drawings in appendix).\n",
    "\n",
    "a.) What is the precise meaning of $\\omega$?  After a time of $t=2\\pi / \\omega$ the plane wave will attain the original form it had at $t=0$.  At $z=0$, after this time, the field has gone through one full cycle, therefore $\\omega$ represents the angular frequency of this wave.\n",
    "\n",
    "b.) What is the precise meaning of $k$?  After a time $t=2 \\pi / \\omega$ the wave front with $\\phi (z,t) = 0$ will move to  a point $z$ such that $k z = 2 \\pi$.  This value for z is one wavelength, $\\lambda = 2 \\pi / k$.  Therefore $k$ is a spatial frequency and alternatively $k$ can be thought of as the numer of wavelengths that will be packed into a meter.  (Larger $k$ implies more wavefronts per meter implies smaller wavelength)"
   ]
  },
  {
   "cell_type": "markdown",
   "metadata": {},
   "source": [
    "### Problem 12\n",
    "\n",
    "A voltage wave, with $f=60 \\thinspace Hz$; $c=2 \\times 10^8 \\thinspace m/s$; $V_0 = 80\\thinspace V$ is the 0 to peak voltage.  Using $k \\equiv \\frac{\\omega}{c}$ and $ V(t) = V_0 cos(\\omega t - kz)$\n",
    "\n",
    "a.) $V(t) = 80 cos( 2 \\pi \\thinspace 60 \\thinspace t - 6 \\pi \\times 10^{-7} z) \\thinspace V$ \n",
    "\n",
    "b.) The phase has not been determined in this situation.\n",
    "\n",
    "c.) In order to measure the phase we'd need to measure the phase at two points in time and calculate what the phase is for this wave.  (Or if we could set our time to a point where $V(0) = 80 V$ then we could calculate the phase with a single measurement and set the phase to be 0.)"
   ]
  },
  {
   "cell_type": "markdown",
   "metadata": {},
   "source": [
    "### Problem 13\n",
    "\n",
    "\n",
    "A function is defined on $[0, \\pi]$; $G(\\tau) = cos^4(\\tau)$; and is $0$ everywhere else.\n",
    "\n",
    "Let this function propagate with the form $G(\\omega t - k z)$\n",
    "\n",
    "a.) In what direction is this moving?  To the right.\n",
    "\n",
    "b.) I know because the disturbance will move along points of constant phase where $\\phi(z, t) \\in (0,\\pi)$.  At $(t=0)$ we find for the left edge that $kz = 0$ or $z=0$ and for the right edge $kz = \\pi$ so $z = \\pi / k $.  This defines the left and right ends of the disturbance in space.  (See drawings)\n",
    "\n",
    "c.) The rule to detmine the direction of travel, given a point of constant phase $\\phi(z,t)$ is to find the direction $dz$ that the disturbance moves after a time $dt$.\n",
    "\n",
    "d.) This can be stated more mathematically:\n",
    "\n",
    "$(k z - \\omega t) = \\phi_c$ for some $\\phi_c \\in (0,\\pi)$, given a $z$ and $t$ and constant phase, can expand $z \\rightarrow z + dz$ and $t \\rightarrow t + dt$:\n",
    "\n",
    "$(k(z + dz) - \\omega (t + dt)) = \\phi_c \\rightarrow kdz = \\phi_c + (wt - kz) + \\omega dt$ therefore $dz = \\frac{\\omega}{k} dt$.  For positive $k$ and $\\omega$ and $dt$, $dz \\gt 0$, proving our statement.\n",
    "\n",
    "e.) This implies a phase velocity of $\\frac{\\omega}{k}$ since the wave front moved by an amount $dz$ in a time $dt$\n",
    "\n",
    "f.) From part d.) this implies that for any wave front (point of constant phase) that $\\frac{dz}{dt} = \\frac{\\omega}{k}$ which is the propagation speed of the phase front as stated. \n",
    "\n",
    "g.) Is this alwasy true?  I believe so provided the disturbance is a function of $(kz - wt)$.  However a dispersive wave, e.g. let $\\omega = \\omega(k)$ in general will have the property that a wave packet consisting of different frequencies will have dispersion or spreading of the wave envelope.\n",
    "\n",
    "h.) This function isn't periodic?  It is a wave in the sense that it is a disturbance that propagates."
   ]
  },
  {
   "cell_type": "markdown",
   "metadata": {},
   "source": [
    "### Problem 14\n",
    "\n",
    "Magnetic Forces:  $F_m = q \\vec{v} \\times \\vec{B}$, consider a constant $\\vec{B}$ field in the $\\hat{x}$ direction of $1 T$\n",
    "\n",
    "Unit of charge, $e = 1.6 \\times 10^{-19} C$\n",
    "\n",
    "\n",
    "a.) If an electron $(q = -e)$ is moving at 1 m/s in the $+\\hat{y}$ direction, the direction of the force is $-(\\hat{v_y} \\times \\hat{B_x}) = \\hat{z}$ and the magnitude will be $1.6 \\times 10^{-19} N$\n",
    "\n",
    "b.) If an electron is moving at $v = 1 \\times 10^8 m/x$ in the $\\hat{y}$ direction?  Force will be $1.6 \\times 10^{-11} \\thinspace N \\thinspace \\hat{z}$\n",
    "\n",
    "c.) If an electron is moving at $v = 1 \\times 10^8 m/x$ in the $\\hat{x}$ direction?  Force will be 0.\n",
    "\n",
    "d.) What is the precise deifintion of the magnetic field?  Thus far, it represents a field which causes a force on a charged particle moving with velocity at a direction orthogonal to $\\vec{B}$.   That is, it is the Force per charge per velocity component perpendicular to the field (e.g. per $sin(\\theta)$ given the cross product between $\\vec{v}$ and $\\vec{B}$; $\\vec{v} \\times \\vec{B} = |\\vec{v}||\\vec{B}|sin(\\theta)$).\n",
    "\n",
    "e.) The force in a.) is perpendicular to the velocity, so the electron will be accelerated in the $\\hat{z}$ direction.  A force that is perpendicular to the direction of motion will not do work, so the electron will maintain it's speed.  This will lead to a circular trajectory in the $(\\hat{y},\\hat{z})$ plane - and since that path is always perpendicular to $\\vec{B}$ the electron will experience the magnetic force as a constant centripital force, and absent any other forces will maintain in this cicurlar trajectory.\n",
    "\n",
    "f.) Units:  $[B] = 1 T =  kg A^{-1} s^{-2}$\n",
    "\n",
    "Since $[A] = \\frac{C}{s}$ and $[N] = kg \\frac{m}{s^{2}}$ can rewrite $T$ as $\\frac{kg m}{s^2 C}\\frac{s}{m} = \\frac{N}{C \\frac{m}{s}}$ which aligns with d.) that the magnetic force causes 1 Newton of force per 1 Coulomb of charge moving at 1 $\\frac{m}{s}$."
   ]
  },
  {
   "cell_type": "code",
   "execution_count": null,
   "metadata": {},
   "outputs": [],
   "source": []
  }
 ],
 "metadata": {
  "kernelspec": {
   "display_name": "Python 3",
   "language": "python",
   "name": "python3"
  },
  "language_info": {
   "codemirror_mode": {
    "name": "ipython",
    "version": 3
   },
   "file_extension": ".py",
   "mimetype": "text/x-python",
   "name": "python",
   "nbconvert_exporter": "python",
   "pygments_lexer": "ipython3",
   "version": "3.8.5"
  }
 },
 "nbformat": 4,
 "nbformat_minor": 4
}
