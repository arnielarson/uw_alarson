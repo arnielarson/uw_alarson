{
 "cells": [
  {
   "cell_type": "markdown",
   "metadata": {},
   "source": [
    "<b>Arnie Larson<br>\n",
    "Assignment 3<br>\n",
    "January, 21, 2023</b>\n",
    "\n",
    "\n",
    "\n"
   ]
  },
  {
   "cell_type": "code",
   "execution_count": 7,
   "metadata": {},
   "outputs": [],
   "source": [
    "import numpy as np"
   ]
  },
  {
   "cell_type": "markdown",
   "metadata": {},
   "source": [
    "### Problem 1\n",
    "\n",
    "Find a solution(material and geometry) for a coax cable line.\n",
    "\n",
    "Note that $[\\frac{\\mu_0}{\\epsilon_0}] = \\frac{V^2}{A^2} = \\Omega^2$\n",
    "\n",
    "$Z_0 \\equiv \\sqrt{\\frac{L'}{C'}} = \\sqrt{\\frac{\\mu_0}{\\epsilon_0}\\frac{\\mu_r}{\\epsilon_r}\\frac{ln(b/a)^2}{4 \\pi^2}}$  with $\\sqrt{\\frac{\\mu_0}{\\epsilon_0}} \\approx 377 \\Omega$\n",
    "\n",
    "$L' = \\mu ln(\\frac{b}{a}) / 2 \\pi$;   $C' = 2 \\pi \\epsilon  / ln(\\frac{b}{a})$\n",
    "\n",
    "First, let's choose b/a = 5, (geometric factor is what comes into play); $ln(b/a) \\approx 1.0986$.  e.g. $0.5mm$ inner diameter and $2.5mm$ diameter outer conductor\n",
    "\n",
    "If $\\mu_r = 1$ then this gives $\\epsilon_r \\approx 3.726$"
   ]
  },
  {
   "cell_type": "code",
   "execution_count": 11,
   "metadata": {},
   "outputs": [
    {
     "name": "stdout",
     "output_type": "stream",
     "text": [
      "Value of Z_0 = 376.819\n",
      "If b = 5a, ln(b/a) = 1.609\n",
      "Value of epsilon_r = 3.726\n"
     ]
    }
   ],
   "source": [
    "# mu_0 / epslion_0\n",
    "print(\"Value of Z_0 = {:.3f}\".format(np.sqrt((4*np.pi/8.85)*1e5)))\n",
    "print(\"If b = 5a, ln(b/a) = {:.3f}\".format(np.log(5)))\n",
    "er = (np.log(5))**2/(4*np.pi**2)*(376.8/50)**2\n",
    "print(\"Value of epsilon_r = {:.3f}\".format(er))"
   ]
  },
  {
   "cell_type": "markdown",
   "metadata": {},
   "source": [
    "### Problem 2\n",
    "\n",
    "\n",
    "a. What would be the propagation constant 𝛾 of this wire?\n",
    "\n",
    "$\\gamma = \\sqrt{R'G'}$\n",
    "\n",
    "b. Is 𝛾 complex?  No.  Solutions are of the form $e^{\\pm \\alpha z}$ (Just attenuation) \n",
    "\n",
    "c. What’s the loss constant 𝛼 of the wire?   $\\alpha = Re\\{\\gamma\\} = \\sqrt{R'G'}$ \n",
    "\n",
    "d. What’s the wire’s spatial frequency or phase constant $\\beta$?  $\\beta = Im\\{\\gamma\\} =0$.\n",
    "\n",
    "\n",
    "e. What does the 𝛽 value you just computed say about the nature of the voltages and\n",
    "currents on this wire? In particular, are there waves?  Solutions do not propagate in space, these are not waves.\n",
    "\n",
    "\n",
    "f. Considering just the  (‘forward-traveling’) solutions to the Telegrapher’s\n",
    "Equations, what’s the phasor voltage on the wire?   $\\tilde{V(z)} = \\tilde{V^+} e^{(-\\sqrt{R'G'}z)}$\n",
    "\n",
    "g. What’s the real voltage corresponding to the phasor voltage you just calculated in (f)?    $V(z) = |V^+|e^{(-\\sqrt{R'G'}z) + \\phi_{+}}$   \n",
    "\n",
    "h. Considering just the (‘forward-traveling’) solutions to the Telegrapher’s\n",
    "Equations, what are the phasor current and the real current on the wire?    $\\tilde{I(z)} = \\tilde{I^+} e^{(-\\sqrt{R'G'}z)}$;   $I(z) = |I^+|e^{(-\\sqrt{R'G'}z) + \\phi_{+}}$   \n",
    "   \n",
    "i. Do the real voltages and currents you just calculated for this wire have the functional form of sines and cosines?\n",
    "The real voltages and currents do oscillate in time.\n",
    "\n",
    "j. Are they waves? State exactly why or why not.  No, there is no propagation, and no linear combination of space and time.\n",
    "\n",
    "k. So just in a sentence, to make sure the point is clear, what’s the connection between\n",
    "the wave action of signals on wires and the stray inductance and capacitance of those\n",
    "wires?   The fields, and the influence of the fields, exists in the insulator outside of the conductors.  It is the fields which propagate as waves, and yield a term which is lineary in $a z  \\pm b t$\n",
    "\n",
    "l. It is nonetheless not physically possible to build wires that have zero distributed\n",
    "inductance or zero distributed capacitance. This would violate a basic physical truth.\n",
    "Explain.   Well - in short, in a physical system, a current will cause a magnetic field which will generate some inductance.    Charge will also couple to anything that is conductive outside of the wire.  So a physically realizable system will have distributed inductance and capacitance..\n",
    "\n",
    "m. How might we operate a real system where the wire's natural inductance and capcitance are minor players?  In the limit that $\\lambda >> $ the size of the system.  In this case KVL is accurate and wires can be treated as perfect conductors and inductor and capacitor elements can be used.\n",
    "\n"
   ]
  },
  {
   "cell_type": "markdown",
   "metadata": {},
   "source": [
    "### Problem 3\n",
    "\n",
    "\n",
    "$Z_0 = \\sqrt{\\frac{R' + j \\omega L'}{G' + j \\omega C'}}$\n",
    "\n",
    "a.) $Z_0$ tells you the ratio of the positive and negative traveling voltage waves propagating along a line, for all points $z$.\n",
    "\n",
    "$Z_0 = \\frac{V_0^{+}}{I_0^{+}}$\n",
    "\n",
    "b.) If $Z_0$ has an imaginary part, then the voltage and current waves traveling will be out of phase.\n",
    "\n",
    "c.) If $Z_0$ has an imaginary part, then there will be some amount of attenuation in the line.\n",
    "\n",
    "d.) The loss can be either Ohmic loss as heat along the conductor or current leakage lost into the conductance of the insulator."
   ]
  },
  {
   "cell_type": "markdown",
   "metadata": {},
   "source": [
    "### Problem 4\n",
    "\n",
    "At a point on a line the total voltage is $2V$ and $Z_0 = 80 \\Omega$.  This tells me very little about the total current $i(z,t)$.\n",
    "\n",
    "That is, I would still be free to write out an infinite number of solutions of the form $i(z,t) = I_0^{+}(\\omega,t,z) + I_0^{-}(\\omega,t,z)$\n",
    "\n",
    "This does tell me that at a minimum the magnitude of the voltages is $|V_0^{+}| + |V_0^{-}| \\ge 2V$ which implies the minimum total current similarly $|I_0^{+}| + |I_0^{-}| \\ge 2V/80\\Omega$"
   ]
  },
  {
   "cell_type": "markdown",
   "metadata": {},
   "source": [
    "### Problem 5\n",
    "\n",
    "Peak to Peak voltage is $5V$.  Since $Z_0$ is real, the forward traveling Voltage and Current waves will be in phase, as will be the reverse traveling waves.  The separate phases of the forward and reverse traveling waves are independent.\n",
    "\n",
    "I'm assuming that peak to peak here means that forward and negative will have the same amplitudes.  \n",
    "\n",
    "$|V_0| = 5V$ and $|I_0| = 5V/ 45 \\Omega \\approx 0.11 A$\n"
   ]
  },
  {
   "cell_type": "markdown",
   "metadata": {},
   "source": [
    "### Problem 6\n",
    "\n",
    "Where doe the minus sign come from in the phasor current solution?\n",
    "\n",
    "Answer, from the notes, from the Telegraphers equations in Phasor form. With the general solutions to $\\tilde{V(z)}$ and $\\tilde{I(z)}$ we note that the 4 constants are not independent, and from the equations we can add one constraint, and then when we associate the forward and backward traveling wave solutions together we get another.\n",
    "\n",
    "$-\\frac{d\\tilde{V}}{dz} = (R' + j \\omega L')\\tilde{I} = -\\frac{d}{dz}(\\tilde{V_0^{+}}e^{-\\gamma z} + \\tilde{V_0^{-}}e^{\\gamma z}) = (\\gamma \\tilde{V_0^{+}}e^{-\\gamma z} -\\gamma \\tilde{V_0^{-}}e^{\\gamma z})$ which leads to the minus sign in solution for $\\tilde{I(z)}$\n",
    "\n",
    "$\\tilde{I(z)} = \\frac{V_0^{+}}{Z_0}e^{-\\gamma z} - \\frac{V_0^{-}}{Z_0}e^{+\\gamma z}$\n",
    "\n",
    "b.) For me, current really has a direction (like the vector $\\vec{J}$) and in one dimension we can kind of ignore this, but the sign really indicates propagation along that direction, like KCL, a + sign moves along $+\\hat{z}$ and a minus sign moves along $-\\hat{z}$.\n",
    "\n"
   ]
  },
  {
   "cell_type": "markdown",
   "metadata": {},
   "source": [
    "### Problem 7\n",
    "\n",
    "Refelction coefficients.  Consider surface waves on say Lake Washington.\n",
    "\n",
    "a.) For waves of water reflecting off a bridge (immovable barrier) the algebraic reflection coefficient is probably in phase (the same sign) as the incoming wave.  The vertical displacement of the incoming wave would sort of act like a generator for reflected waves with the same amplitude direction, at the same frequency, and propagating with the same speed.\n",
    "\n",
    "b.) **Need to think through more thoroughly** If waves are incident at right angle to the barrier, (e.g. North at 5 m/s w/r/t bridge oriented East/West).  Right at the bridge the waves would add constructively, (making big splashes), but the reflected waves would have a tendancy to maybe cause some sort of standing wave pattern spatially.  The reflected waves will have the same frequency, and the same speed and wavelength.  Can do this a little more mathematically.  Take North to be in $-\\hat{x}$ direction and wall to be apoint where $x=0$, at $t=0$ let the wavefront be a maximum.  (So we're considering wavefronts in the positive $x$ half plane).  If the wave is reflected with coefficient $B$ s.t. $B \\lt A$, then the total wave will be approximately.\n",
    "\n",
    "$Total(x,t)= Re\\{A e^{j(k x + \\omega t)} + B e^{j(k x -\\omega t)}\\} \\approx \\frac{B}{2}cos(k x)sin( \\omega t) + \\frac{A - B}{2}cos(kx - \\omega t)$\n",
    "\n",
    "c.) There could be nodes in a standing wave pattern, but only if all of the energy is perfectly reflected at the wall, and little (none really) of the energy is dissipated during propagation, then a standing wave pattern would have nodes at quarter wavelengths (lines with $x \\approx n 1.25m; n \\in (1, 3, 5..)$.\n",
    "\n",
    "d.) Those standing wave nodes in this example would be lines parallel to $\\hat{y}$ at the $x$ locations as described above.\n"
   ]
  },
  {
   "cell_type": "markdown",
   "metadata": {},
   "source": [
    "### Problem 8\n",
    "\n",
    "\n",
    "a.) Definition of $\\Gamma$: $\\Gamma \\equiv \\frac{V_0^{-}}{V_0^{+}}$\n",
    "\n",
    "b.) If $ V_0^{-} = \\Gamma V_0^{+}$ Then $|\\Gamma|$ is the amount of voltage reflected, and $\\angle \\Gamma$ is the phase shift of the reflected voltage.\n",
    "\n",
    "c.) Short circuit, $Z_L = 0 \\rightarrow \\Gamma = -1$  This is a phase shift by $\\pi$\n",
    "\n",
    "d.) Intuitively, for 0 impedance, no voltage will be accross this load, and so the reflected voltage needs to exactly cancel the input voltage, at the boundary condition.  ($\\tilde{V} = \\tilde{I} \\tilde{Z}$).  (Also, the boundary conditions across a conductor will require that the fields not have a parallel component)\n",
    "\n",
    "e.) Open circuit, $Z_L = \\infty \\rightarrow \\Gamma = 1$  This is in phase.   Sort of like a brick wall, where the field reflects perfectly.\n",
    "\n",
    "f.) An intuitive argument for this, (from class), is that if $I = \\frac{V}{Z}$ requires that $I = 0$.  From class $\\frac{I_0^{-}}{I_0^{+}} = - \\Gamma$ and therefore $\\tilde{I_L} = I_0^{+} - \\Gamma I_0^{+} = 0$ which gives us intuition for why in this case the reflection coefficient should be 1."
   ]
  },
  {
   "cell_type": "markdown",
   "metadata": {},
   "source": [
    "### Problem 9\n",
    "\n",
    "\n",
    "a.) Driving a passive load.  $|\\Gamma| \\leq 1$  This makes intuitive sense, because of energy considerations.  The total energy in the system is that put into the positive traveling voltage wave.  $V_0^{+}$.  This could be written as $E_0^{+} = E_L + E_0^{-}$  PRovided the load does not put in energy into the system, then $E_0^{-} \\leq E_0^{+}$ \n",
    "\n",
    "b.) Proof?    \n",
    "\n",
    "**Note** I feel like my proof is a little handwavy..\n",
    "\n",
    "I'm going to again rely on conservation of energy, but press forward a bit more.\n",
    "\n",
    "For a passive load I'll take as definition that $P_{load} \\leq P_{in}$ and that for our ideal lossless assumption $P_{wire} = P_{load}$.  \n",
    "\n",
    "Start with $P_{in} + P_{ref} = P_{+} + P_{-} = P_{load} \\rightarrow V_0^{+}I_0^{+} + V_0^{-}I_0^{-} = V_L I_L$.  \n",
    "\n",
    "Using relations for the wire, $V_0^{-} = \\Gamma V_0^{+}$ and $I_0^{-} = - \\Gamma I_0^{+}$\n",
    "\n",
    "We get $V_0^{+}I_0^{+}(1 - |\\Gamma |^2) = P_L$\n",
    "\n",
    "For $\\Gamma = 0$ this implies that all the input power is going to the load.  \n",
    "\n",
    "For $\\Gamma = 1$ this implies that no input power is going to the load, and it all is being reflected.  \n",
    "\n",
    "And for a passive load, from my definition of $\\frac{|P_{load}|}{|P_{+}|} \\in [0,1]$ implies that $|\\Gamma|^2 \\in [0,1]$"
   ]
  },
  {
   "cell_type": "code",
   "execution_count": null,
   "metadata": {},
   "outputs": [],
   "source": []
  }
 ],
 "metadata": {
  "kernelspec": {
   "display_name": "Python 3",
   "language": "python",
   "name": "python3"
  },
  "language_info": {
   "codemirror_mode": {
    "name": "ipython",
    "version": 3
   },
   "file_extension": ".py",
   "mimetype": "text/x-python",
   "name": "python",
   "nbconvert_exporter": "python",
   "pygments_lexer": "ipython3",
   "version": "3.8.5"
  }
 },
 "nbformat": 4,
 "nbformat_minor": 4
}
