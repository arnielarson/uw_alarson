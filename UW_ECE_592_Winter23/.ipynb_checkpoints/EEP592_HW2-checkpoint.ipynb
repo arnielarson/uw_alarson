{
 "cells": [
  {
   "cell_type": "markdown",
   "metadata": {},
   "source": [
    "<b>Arnie Larson<br>\n",
    "Assignment 2<br>\n",
    "January, 12, 2023</b>\n",
    "\n",
    "\n",
    "\n",
    "\n",
    "\n",
    "\n",
    "** Note - I attached some sketches at the end, as an Appendix"
   ]
  },
  {
   "cell_type": "markdown",
   "metadata": {},
   "source": [
    "### Problem 1\n",
    "\n",
    "**Note**, see drawings at end\n",
    "\n",
    "What is the net force on a current carrying wire (in a square loop) in a constant magnetic field $\\vec{B} = B_z$.  In the picture, two of the current carring wires are at different z values.  The forces on a current will be in the $(x,y)$ plane, away from the origin.  So for the two wires at different z locations, the net force $\\sum\\vec{F} = 0$ but there will be a net torque on the loop, which will tend to orient the loop direction $\\hat{n}$ along the magnetic field $\\vec{B}$.  For the other two wires the forces will be oriented through the origin, and so the net force and net torque will be zero, $\\sum\\vec{F}=0$ and $\\sum\\vec{\\tau} = 0$.\n",
    "\n",
    "This analysis is consistent with the notion that the torque on a dipole will be $\\propto \\vec{B} \\cdot \\vec{\\mu}$ where $\\vec{\\mu}$ is the magnetic moment of an atom in the material.\n"
   ]
  },
  {
   "cell_type": "markdown",
   "metadata": {},
   "source": [
    "### Problem 2\n",
    "\n",
    "1. DC Current.\n",
    "\n",
    "electron charge: $e = 1.6 \\times 10^{-19}$\n",
    "\n",
    "molar mass: $M = 64 g / mol$\n",
    "\n",
    "avagadro's number: $N = 1.6 \\times 10^{23}$\n",
    "\n",
    "conductor copper: $\\approx 1$ charge carrier per atom\n",
    "\n",
    "density: $9 g/cm^{3}$\n",
    "\n",
    "charge density: $\\rho \\approx 1 * e * N * 1cm^3 * \\rho_V * (1/M) \\approx 10^4 C$ \n",
    "\n",
    "velocity: $J = \\rho_C * v \\rightarrow v \\approx 40 \\times 10^{-6} m = 40 \\mu m$\n",
    "\n",
    "a.) The current vs. position $z$ is flat, featureless.\n",
    "\n",
    "b.) this current has $\\frac{di}{dz} = 0$, no non random spatial features\n",
    "\n",
    "c.) a current wave will have a disturbance that propagates $i(z,t) = g(kz - wt)$\n",
    "\n",
    "d.) This current does have spatial variations for some $t^{'}$\n",
    "\n",
    "e.) KCL, current in equals current out, so if there's a net build up of charge somewhere, there must be an equal one somewhere else\n",
    "\n",
    "f.) If there's a net build up of charge at $z = 2m$ that tells us:  Some of the charge may leak accross the dielectric, some may build up charge on the opposite conductor (storing energy as capacitance) some of it may leak energy as heat in resitance, and it's rate of change will induce an opposite change in potential/voltage due to it's inductance.\n",
    "\n",
    "g.) Although any given charge carrier doesn't move fast, or propagate at the speed of the circuit, the influence of the fields must therefore be propagating the voltage change and macroscopic currents.\n",
    "\n",
    "3. \n",
    "\n",
    "a.) What assumptions have we made in proving that voltages and currents move as waves?  \n",
    "\n",
    "- We've made an assumption that a static field will push the charge carriers which leads to the notion that the charge carriers do not move fast.\n",
    "\n",
    "- We've assumed that for conductors there's a weakly bound valence electron (order 1 per atom) that acts as the charge carrier.\n",
    "\n",
    "- We've made the assumption that these charge carriers, in the precenese of a field will all move, constituting a current, and these charge carriers will be moving many orders of magnitude slower than we expect the influence of the field to act.\n",
    "\n",
    "- We've made the assumption of the TEM mode propagating, which requires a second conductor, and leads to the idea of unit R, L, G, C per length.\n",
    "\n",
    "b.) What physical principles?  \n",
    "\n",
    "- The conservation of charge, along with KCL, that moving charge at one place requires moving charge at another place.\n",
    "\n",
    "\n"
   ]
  },
  {
   "cell_type": "markdown",
   "metadata": {},
   "source": [
    "### Problem 4\n",
    "\n",
    "a.) What is the subject of \"Transmission Lines\" really about?  It's about deriving some fundamental relationships between voltage and currents moving on conductors, which should reduce to KVL and KCL in the appropriate limit.  For low frequencies, there is effectively no $z$ dependence in the system, and voltages and currents along a conductor will not vary with $z$.\n",
    "\n",
    "b.) An electronic system will not reduce to KVL and KCL when it's size $\\Delta d$ is close in size to the lowest wavelenghts in the voltage response.  That is if $\\lambda_{min} \\approx \\Delta d$\n",
    "\n",
    "c.) **Note, I need to think about this a bit more quantitatively** - but back of the envelope here without internet I'll start by assuming that a pulse needs at least 10x the fundamental harmonic frequency to be a good representation of a square wave \"pulse\" and that the wavelength of that higher frequency should be at least 10x the dimensions of the circuit.  So for a chip that is say $1cm$, that would mean $\\lambda \\approx> 1m$ or operation at digital frequencies approaching $300 MHz$.  In order to operate at these or higher frequencies I assume it necessary to understand the constraints of the size and signal processing harmonics and to begin to incoporate tricks and solutions using the TL equations.\n",
    "\n",
    "$\\Delta d = 1cm \\rightarrow f_{fundamental} = c / \\lambda \\rightarrow \\rightarrow \\lambda_{min} =  \\lambda_{fundamental} / 10 = 10 \\times \\Delta d \\rightarrow \\lambda_{fundamental} \\approx 100 \\times \\Delta d; f_{fundamental} \\approx 300 MHz$\n",
    "\n",
    "d.) I don't know the history.  But operating at frequencies less than a few 10's of 1MHz would have been common for a long time, through the advent of transistors and all of the initial decades of digitization and computation, through the development of op amps and ADCs etc.  Miniturizaiton in manufacturing would have extended this some, since smaller chip size and system size would enable KCL/KVL to work at slightly higher frequencies.  And I believe the advent of higher frequency digital electronics, e.g. ADC's operating at $1GHz$ and higher has only become more common within the last 20 years or so.  Hence the dominance of KVL and KCL in EE curriculums, since it was applicable to a large variety of systems, including power.  RF communications and antenna feed structures has presumably been around for a much longer time, (e.g. 70's? and so this curriculum I suspect has historically been a specialization of the RF and Radar communities)."
   ]
  },
  {
   "cell_type": "markdown",
   "metadata": {},
   "source": [
    "### Problem 5\n",
    "\n",
    "a.) What does it mean to say that a wire has inductance?  From KVL perspective a local changing current will induce an opposing voltage drop, thus slowing down an increase in current.  From Faraday's law perspective, an increading current on a wire will increase the magnetic field around the wire.  And from $\\nabla \\times \\vec{E} = - \\frac{d\\vec{B}}{dt}$, the changing magnetic flux will incude a negative potential drop along the wire.\n",
    "\n",
    "b.) What is inductance doing to small charge disturbances on the wire?  The inductance is causing local voltage drops, decreasing the force pushing the charge, and slowing the time it takes to reach a steady state current.\n",
    "\n",
    "c.) $\\Delta V = L \\frac{di}{dt}$ in light of this expression - to increasd the current accross two points, it will take more voltage, the faster you want the current to increase, the more voltage it takes.  And I know that we'll get to the point where we can use faraday's law, analyze the changing magnetic fields in loops of conducting wire to find that the inductance $L$ will be a function of the geometry of the system."
   ]
  },
  {
   "cell_type": "markdown",
   "metadata": {},
   "source": [
    "### Problem 6\n",
    "\n",
    "See attached appendix"
   ]
  },
  {
   "cell_type": "markdown",
   "metadata": {},
   "source": [
    "### Problem 7\n",
    "\n",
    "See attached"
   ]
  },
  {
   "cell_type": "markdown",
   "metadata": {},
   "source": [
    "### Problem 8\n",
    "\n",
    "a.) What is the meaning of $I_{0}^{+}$?  This is the generally complex constant for the value of the magnitude of the current (generally taken to be $z=0$) associated with the $e^{-\\gamma z}$ solution to the phasor TL equations, that we associate with a current wave that is propagating in the $+z$ direction.\n",
    "\n",
    "b.) Relative to the real current $I^{+}(z, t)$ what is $I_{0}^{+}$?  This is the magnitude and phase of the current wave.  \n",
    "\n",
    "If $I_{0}^{+} = |I_{0}^{+}|e^{j\\phi}$ then $I(z,t) = |I_{0}^{+}|cos(\\omega t - \\gamma z + \\phi)$ and the phase represents the phase of this part of the current wave a time $t=0$ and $z=0$."
   ]
  },
  {
   "cell_type": "markdown",
   "metadata": {},
   "source": [
    "### Problem 9\n",
    "\n",
    "See attached"
   ]
  },
  {
   "cell_type": "code",
   "execution_count": null,
   "metadata": {},
   "outputs": [],
   "source": []
  }
 ],
 "metadata": {
  "kernelspec": {
   "display_name": "Python 3",
   "language": "python",
   "name": "python3"
  },
  "language_info": {
   "codemirror_mode": {
    "name": "ipython",
    "version": 3
   },
   "file_extension": ".py",
   "mimetype": "text/x-python",
   "name": "python",
   "nbconvert_exporter": "python",
   "pygments_lexer": "ipython3",
   "version": "3.8.5"
  }
 },
 "nbformat": 4,
 "nbformat_minor": 4
}
