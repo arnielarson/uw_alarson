{
 "cells": [
  {
   "cell_type": "markdown",
   "metadata": {},
   "source": [
    "### Filters and DSP\n",
    "\n",
    "These notes come from \n",
    "Some simple examples from (geeksforgeeks)[https://www.geeksforgeeks.org/design-an-iir-notch-filter-to-denoise-signal-using-python/] for IIR filter implementation in Python\n"
   ]
  },
  {
   "cell_type": "code",
   "execution_count": 1,
   "metadata": {},
   "outputs": [],
   "source": [
    "from scipy import signal\n",
    "import matplotlib.pyplot as plt\n",
    "import numpy as np"
   ]
  },
  {
   "cell_type": "code",
   "execution_count": 2,
   "metadata": {},
   "outputs": [],
   "source": [
    "# Create/view notch filter\n",
    "samp_freq = 1000       # Sample frequency (Hz)\n",
    "notch_freq = 50.0      # Frequency to be removed from signal (Hz)\n",
    "quality_factor = 20.0  # Quality factor => fc / Q => 3dB bandwidth, 2.5 Hz in this case"
   ]
  },
  {
   "cell_type": "code",
   "execution_count": null,
   "metadata": {},
   "outputs": [],
   "source": []
  }
 ],
 "metadata": {
  "kernelspec": {
   "display_name": "Python 3",
   "language": "python",
   "name": "python3"
  },
  "language_info": {
   "codemirror_mode": {
    "name": "ipython",
    "version": 3
   },
   "file_extension": ".py",
   "mimetype": "text/x-python",
   "name": "python",
   "nbconvert_exporter": "python",
   "pygments_lexer": "ipython3",
   "version": "3.8.5"
  }
 },
 "nbformat": 4,
 "nbformat_minor": 4
}
