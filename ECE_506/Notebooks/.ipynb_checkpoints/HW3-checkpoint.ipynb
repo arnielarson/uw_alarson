{
 "cells": [
  {
   "cell_type": "markdown",
   "metadata": {},
   "source": [
    "Arnie Larson\n",
    "\n",
    "EEP 506, Spring 2022\n",
    "\n",
    "Homework 3 "
   ]
  },
  {
   "cell_type": "code",
   "execution_count": 2,
   "metadata": {},
   "outputs": [],
   "source": [
    "import numpy as np\n",
    "from scipy import signal\n",
    "from scipy import special\n",
    "import matplotlib \n",
    "import matplotlib.pyplot as plt"
   ]
  },
  {
   "cell_type": "markdown",
   "metadata": {},
   "source": [
    "### Problem 1\n",
    "\n",
    "Derive the $\\frac{d}{2 \\sigma}$ rule for error rate.\n",
    "\n",
    "Given a signal with 2 symbols we formulate two hypothesis for what the signal will be given the symbol\n",
    "\n",
    "$ H_1 : \\mathbf{x} \\sim N(s_1, \\sigma^2)$ when the symbol is $S_1$\n",
    "\n",
    "$ H_2 : \\mathbf{x} \\sim N(s_2, \\sigma^2)$ when the symbol is $S_2$\n",
    "\n",
    "This is a 1-d constellation which has a midpoint at $x_o = (s_1 + s_2) / 2$\n",
    "\n",
    "(See drawing below)\n",
    "\n",
    "**Note** This is set up as a general 1-d signal with a simple boundary for the decision.  \n",
    "\n",
    "To derive the error rate rule, we first can write down the probability of an error, assuming that the probabilities of the symbols are equal $P(S_1) = P(S_2) = \\frac{1}{2}$\n",
    "\n",
    "$P_e = \\frac{1}{2}P\\{\\mathbf x > x_o | H_1\\} + \\frac{1}{2}P\\{\\mathbf x < x_o | H_2\\}$\n",
    "\n",
    "Convert this to a standard normal $ \\mathbf t \\sim N(0, 1)$ and use $P( t < a ) = P( t > -a)$ and note that  $x_o - s_1 = (s_2 - s_1)/2 = d/2$ and $-(x_o - s_2) = (s_2 - s_1)/ 2 = d/2$ the expression for $P_e$ reduces to the rule.\n",
    "\n",
    "\n",
    "$P\\{ x > x_o | H_1\\} = P\\{ s_1 + \\sigma t \\gt x_o \\}  = P\\{ t > (x_o - s_1) / \\sigma ) \\}$\n",
    "$= P\\{ t > d/2\\sigma \\} = Q(\\frac{d}{2\\sigma})$\n",
    "\n",
    "\n",
    "\n",
    "$P\\{ x \\lt x_o | H_2\\} = P\\{ s_2 + \\sigma t \\lt x_o \\}  = P\\{ t \\lt (x_o - s_2) / \\sigma ) \\} = P\\{ t \\gt - (x_o - s_2) / \\sigma ) = P\\{ t > d/2\\sigma \\} = Q(\\frac{d}{2\\sigma})\\}$\n",
    "\n",
    "Which leads to the rule $P_e = Q(\\frac{d}{2\\sigma})$\n",
    "\n",
    "\n"
   ]
  },
  {
   "cell_type": "markdown",
   "metadata": {},
   "source": [
    "**Simulation**\n",
    "\n",
    "Simulate this decision process with Gaussian RV representing the signal.  For BPSK we have $Q\\left(\\sqrt{\\frac{2E_b}{N_o}}\\right)$\n",
    "\n",
    "This is easiest to simulate in 1D with a simple decision boundary at $x=0$.  Note that I think we want the simulation to have probably at least 100 expected events to generate an error rate that is within 10% of the expected rate.\n",
    "\n",
    "**Trial 1:** Normalize $E_b = 1$, $s_1 = \\sqrt{E_b}$ and $s_2 = -\\sqrt{E_b}$ let $E_b/N_o = 5$\n",
    "\n",
    "If $E_h$ (no gain?) is unity, then $\\sigma = \\sqrt{P_n} = \\sqrt{N_o/2} = \\sqrt{.1}$\n",
    "\n",
    "I find for this SNR that the real $P_e \\approx 0.078 \\%$\n",
    "\n",
    "I find that simulations with agree within a few % which is expected\n",
    "\n",
    "**Trial 2:** Normalize $E_b = 1$, and let $E_b/N_o = 6.9$, $\\sigma = \\sqrt{1/13.8}$\n",
    "\n",
    "For this the real $P_e \\approx 0.01 \\%$ and I find that simulations tend to agree withing about 10% as expected."
   ]
  },
  {
   "cell_type": "code",
   "execution_count": 3,
   "metadata": {},
   "outputs": [
    {
     "name": "stdout",
     "output_type": "stream",
     "text": [
      "Expected error rate Pe = 0.0007827\n"
     ]
    }
   ],
   "source": [
    "## Expected error rate Q(x) = 0.5 * erfc(x/sqrt(2))\n",
    "Pe=0.5*special.erfc(np.sqrt(5))\n",
    "print(\"Expected error rate Pe = {:.7f}\".format(Pe))"
   ]
  },
  {
   "cell_type": "code",
   "execution_count": 4,
   "metadata": {},
   "outputs": [
    {
     "name": "stdout",
     "output_type": "stream",
     "text": [
      "S1 Errors = 781, (expected 783)\n",
      "S2 Errors = 763, (expected 783)\n",
      "Simulation Error rate = 0.000772\n",
      "Relative error of simulation: 1.4 %\n"
     ]
    }
   ],
   "source": [
    "## Trial 1 = Eb / No = 5, Pe = 0.078%\n",
    "## Let s1 = 1; s2 = -1; sigma = sqrt(.2/2)\n",
    "s1=1; s2=-1; sigma=np.sqrt(.1); N = 10e5;\n",
    "rng = np.random.default_rng()\n",
    "S1 = rng.normal(s1, sigma, int(N))  # error when RV trial S1 < 0\n",
    "S2 = rng.normal(s2, sigma, int(N))  # error when RV tiral S2 > 0\n",
    "errors_s1 = sum(S1<0)\n",
    "errors_s2 = sum(S2>0)\n",
    "error_rate = (errors_s1 + errors_s2)/(2*N)\n",
    "sim_rel_error = np.abs(Pe-error_rate)/Pe\n",
    "print(\"S1 Errors = {}, (expected {:.0f})\".format(errors_s1, Pe*N))\n",
    "\n",
    "print(\"S2 Errors = {}, (expected {:.0f})\".format(errors_s2, Pe*N))\n",
    "\n",
    "print(\"Simulation Error rate = {}\".format(error_rate))\n",
    "print(\"Relative error of simulation: {:.1f} %\".format(sim_rel_error*100))"
   ]
  },
  {
   "cell_type": "code",
   "execution_count": 6,
   "metadata": {},
   "outputs": [
    {
     "name": "stdout",
     "output_type": "stream",
     "text": [
      "Expected error rate Pe = 0.0001017\n",
      "S1 Errors = 100, (expected 102)\n",
      "S2 Errors = 122, (expected 102)\n",
      "Simulation Error rate = 0.000111\n",
      "Relative error of simulation: 9.2 %\n"
     ]
    }
   ],
   "source": [
    "## Trial 2 = Eb / No = 6.9, Pe = 0.001%  (Or 1e-4)\n",
    "## Let s1 = 1; s2 = -1; sigma = sqrt(1/13.8)\n",
    "Pe=0.5*special.erfc(np.sqrt(6.9))\n",
    "print(\"Expected error rate Pe = {:.7f}\".format(Pe))\n",
    "s1=1; s2=-1; sigma=np.sqrt(1/13.8); N = 10e5;\n",
    "rng = np.random.default_rng()\n",
    "S1 = rng.normal(s1, sigma, int(N))  # error when RV trial S1 < 0\n",
    "S2 = rng.normal(s2, sigma, int(N))  # error when RV tiral S2 > 0\n",
    "errors_s1 = sum(S1<0)\n",
    "errors_s2 = sum(S2>0)\n",
    "error_rate = (errors_s1 + errors_s2)/(2*N)\n",
    "sim_rel_error = np.abs(Pe-error_rate)/Pe\n",
    "print(\"S1 Errors = {}, (expected {:.0f})\".format(errors_s1, Pe*N))\n",
    "\n",
    "print(\"S2 Errors = {}, (expected {:.0f})\".format(errors_s2, Pe*N))\n",
    "\n",
    "print(\"Simulation Error rate = {}\".format(error_rate))\n",
    "print(\"Relative error of simulation: {:.1f} %\".format(sim_rel_error*100))"
   ]
  },
  {
   "cell_type": "code",
   "execution_count": null,
   "metadata": {},
   "outputs": [],
   "source": []
  },
  {
   "cell_type": "markdown",
   "metadata": {},
   "source": [
    "### Problem 2\n",
    "\n",
    "Derive the SNR power ratio in terms of $E_b$ the energy per bit.  \n",
    "\n",
    "As we've looked at previously, the noise Power $P_n = \\sigma_n^2 = \\frac{N_o}{2}T = N_o B$.  (This can be considered just using scaling laws and is also correct for a non realizable ideal filter)\n",
    "\n",
    "Average signal power (per symbol) is $P_s = E_s / T$ is the energy per symbol per symbol time.  ($E_s$ is the average energy per symbol) \n",
    "\n",
    "From M-ary Comms lecture we've see $\\frac{bits}{sec} = \\frac{sym}{sec} \\frac{bits}{sym} \\rightarrow R_b = R_s log_2(M)$\n",
    "\n",
    "Similarly for Energy $\\frac{energy}{bit} = \\frac{energy}{sym} \\frac{sym}{bit} \\rightarrow E_b = E_s / log_2(M)$\n",
    "\n",
    "Therefore $SNR = \\frac{P_s}{P_n} = \\frac{E_s}{2N_o} = \\frac{E_b log_2(M)}{2 N_o}$"
   ]
  },
  {
   "cell_type": "code",
   "execution_count": 56,
   "metadata": {},
   "outputs": [
    {
     "data": {
      "text/plain": [
       "Text(0.5, 1.0, 'E_b - Energy per bit [in E_s]')"
      ]
     },
     "execution_count": 56,
     "metadata": {},
     "output_type": "execute_result"
    },
    {
     "data": {
      "image/png": "[encoded data removed]",
      "text/plain": [
       "<Figure size 576x288 with 2 Axes>"
      ]
     },
     "metadata": {
      "needs_background": "light"
     },
     "output_type": "display_data"
    }
   ],
   "source": [
    "M=[2,4,8,16]\n",
    "\n",
    "fig, (ax1, ax2) = plt.subplots(1, 2, figsize=(8,4))\n",
    "ax1.plot(M, np.log2(M)); ax1.set_xticks([2,4,8,16]);\n",
    "ax1.grid(True); ax1.set_ylabel(\"R_b\"); ax1.set_xlabel(\"M\"); \n",
    "ax1.set_title(\"R_b - Bit Rate [in T]\")\n",
    "ax2.plot(M, 1/np.log2(M)); ax2.set_xticks([2,4,8,16]);\n",
    "ax2.grid(True); ax2.set_ylabel(\"E_b\"); ax2.set_xlabel(\"M\"); \n",
    "ax2.set_title(\"E_b - Energy per bit [in E_s]\")"
   ]
  },
  {
   "cell_type": "markdown",
   "metadata": {},
   "source": [
    "![xx](img/PXL_20220427_044551222.jpeg)"
   ]
  },
  {
   "cell_type": "code",
   "execution_count": null,
   "metadata": {},
   "outputs": [],
   "source": []
  }
 ],
 "metadata": {
  "kernelspec": {
   "display_name": "Python 3",
   "language": "python",
   "name": "python3"
  },
  "language_info": {
   "codemirror_mode": {
    "name": "ipython",
    "version": 3
   },
   "file_extension": ".py",
   "mimetype": "text/x-python",
   "name": "python",
   "nbconvert_exporter": "python",
   "pygments_lexer": "ipython3",
   "version": "3.8.5"
  }
 },
 "nbformat": 4,
 "nbformat_minor": 4
}
