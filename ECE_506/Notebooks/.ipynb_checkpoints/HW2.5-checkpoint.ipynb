{
 "cells": [
  {
   "cell_type": "markdown",
   "metadata": {},
   "source": [
    "Arnie Larson\n",
    "\n",
    "EEP 506, Spring 2022\n",
    "\n",
    "Homework 2.5 (some probability example problems)\n",
    "\n"
   ]
  },
  {
   "cell_type": "code",
   "execution_count": 2,
   "metadata": {},
   "outputs": [],
   "source": [
    "import numpy as np\n",
    "from scipy import signal\n",
    "from scipy import special\n",
    "import matplotlib \n",
    "import matplotlib.pyplot as plt"
   ]
  },
  {
   "cell_type": "markdown",
   "metadata": {},
   "source": [
    "### Problem 1\n",
    "\n",
    "Gaussian distribution and Q function.  A random variable $\\mathbf{x}$ is a numerical outcome of a random experiment.\n",
    "\n",
    "For a Gaussian random variable, probability density $f(x) = \\frac{1}{\\sigma \\sqrt{2 \\pi}} e^{-\\frac{1}{2}(\\frac{ x - \\mu}{\\sigma})^2}$\n",
    "\n",
    "The standard normal distribution has normalization such that $\\mu = 0$ and $\\sigma = 1$\n",
    "\n",
    "$f(x)dx = Pr \\{ \\mathbf{x}  \\in (x,x+dx) \\}$\n",
    "\n",
    "$F(x) = Pr \\{ \\mathbf{x} \\leq x \\}$\n",
    "\n",
    "$\\bar{F}(x) = Pr \\{ \\mathbf{x} \\gt x \\}$; $Q(x) \\equiv \\bar{F}(x)$\n",
    "\n",
    "The cumulative distribution function $Q(x)$ can be evaluated in terms of special functions $Q(x) = \\frac{1}{2}erfc(x/\\sqrt{2})$"
   ]
  },
  {
   "cell_type": "code",
   "execution_count": 3,
   "metadata": {},
   "outputs": [],
   "source": [
    "# Plot cumulative dist of Standard Normal (mu = 1; sigma = 1)\n",
    "# x is multiples of sigma, you can approximately see e.g. 3 sigma, 6 sigma, etc..\n",
    "\n",
    "x = np.linspace(-7, 7, 100000)\n",
    "f = 1 - 0.5 * special.erfc(x/np.sqrt(2))"
   ]
  },
  {
   "cell_type": "code",
   "execution_count": 4,
   "metadata": {},
   "outputs": [
    {
     "data": {
      "text/plain": [
       "Text(0.5, 1.0, 'F(x) logy')"
      ]
     },
     "execution_count": 4,
     "metadata": {},
     "output_type": "execute_result"
    },
    {
     "data": {
      "image/png": "[encoded data removed]",
      "text/plain": [
       "<Figure size 576x288 with 2 Axes>"
      ]
     },
     "metadata": {
      "needs_background": "light"
     },
     "output_type": "display_data"
    }
   ],
   "source": [
    "fig, (ax1, ax2) = plt.subplots(1, 2, figsize=(8,4))\n",
    "ax1.plot(x, f); ax1.grid()\n",
    "ax1.set_xticks(range(-6,7,1))\n",
    "ax1.set_title(\"F(x) for standard normal\")\n",
    "ax2.semilogy(x, f); ax2.grid()\n",
    "ax2.set_xticks(range(-6,7,1))\n",
    "ax2.set_title(\"F(x) logy\")"
   ]
  },
  {
   "cell_type": "markdown",
   "metadata": {},
   "source": [
    "### Problem 2\n",
    "\n",
    "Gaussian RVs as thermal noise w power $P_n = kTB$\n",
    "\n",
    "Noise Power is often expressed in dBm; $10 log_{10}\\frac{P_n}{1mW}$ decibel per milliwatt\n",
    "\n",
    "Example at $K = 290$ the for 1 $Hz$; $P_n = -174 dBm$"
   ]
  },
  {
   "cell_type": "code",
   "execution_count": 12,
   "metadata": {},
   "outputs": [],
   "source": [
    "# Pn_1Hz = 10 log10 (P * 1 Hz / 1mW) = -174\n",
    "P = 10**-17.4  # in mW\n",
    "# Pn_1MHz = 10 log10 (P * 1e6 / 1mW) = -114\n",
    "P_1MHz = 10 * np.log10(10**-17.4 * 1e6) ## in mW"
   ]
  },
  {
   "cell_type": "code",
   "execution_count": 14,
   "metadata": {},
   "outputs": [
    {
     "name": "stdout",
     "output_type": "stream",
     "text": [
      "Noise Power [mW] (room temp over 1MHz): 3.9810717055349695e-12\n",
      "Noise Power [W]  (room temp over 1MHz): 3.9810717055349695e-15\n"
     ]
    }
   ],
   "source": [
    "#Noise Power from -114 dBm (in mW and Watts) 4e-15 Watts\n",
    "P_n = 10**-11.4\n",
    "print(\"Noise Power [mW] (room temp over 1MHz): {}\".format(P_n))\n",
    "print(\"Noise Power [W]  (room temp over 1MHz): {}\".format(P_n*1e-3))"
   ]
  },
  {
   "cell_type": "markdown",
   "metadata": {},
   "source": [
    "Given a noise power of $4e^{-15} Watts$ leads to a standard deviation of $6.3e^{-8} Volts$ (if you think of the Noise Power as Volts^2 over a 1 Ohm resistor)\n",
    "\n",
    "Compute noise voltage probabilities, (I assume that we care about the magnitude of the noise voltage so I take into account both sides of the PDF)\n",
    "\n",
    "$P \\{\\mathbf{n} \\gt 1e^{-7}\\} \\approx 11\\%$  (liklihood value is greater than 1.6 sigma)\n",
    "\n",
    "$P \\{\\mathbf{n} \\lt 1e^{-8}\\} \\approx 12\\%$  (liklihood that the value is less than .16 sigma)"
   ]
  },
  {
   "cell_type": "code",
   "execution_count": 18,
   "metadata": {},
   "outputs": [
    {
     "name": "stdout",
     "output_type": "stream",
     "text": [
      "First one, value is gt than 1.5873015873015874 sigma\n",
      "Second one, value is lt than 0.15873015873015875 sigma\n"
     ]
    }
   ],
   "source": [
    "# First one - equivalent to an experimental outcome of t = x/sigma\n",
    "x = 1e-7/6.3e-8   # 1.587 sigma\n",
    "y = 1e-8/6.3e-8   # 0.159 sigma\n",
    "print(\"First one, value is gt than {} sigma\".format(x))\n",
    "print(\"Second one, value is lt than {} sigma\".format(y))"
   ]
  },
  {
   "cell_type": "code",
   "execution_count": 20,
   "metadata": {},
   "outputs": [
    {
     "name": "stdout",
     "output_type": "stream",
     "text": [
      "Prob1: 0.11244435592108926\n"
     ]
    }
   ],
   "source": [
    "# First one, basically the liklihood that the value is > 1.59 sigma\n",
    "# = \n",
    "rs = 0.5 * special.erfc(x/np.sqrt(2))  \n",
    "ls = 1 - 0.5 * special.erfc(-x/np.sqrt(2))\n",
    "p1 = rs + ls; print(\"Prob1: {}\".format(p1))"
   ]
  },
  {
   "cell_type": "code",
   "execution_count": 21,
   "metadata": {},
   "outputs": [
    {
     "name": "stdout",
     "output_type": "stream",
     "text": [
      "Prob1: 0.12611852382620659\n"
     ]
    }
   ],
   "source": [
    "# second, liklihood that the value has magnitude less than .16 sigma\n",
    "ls = 0.5 * special.erfc(-y/np.sqrt(2))  \n",
    "rs = 0.5 * special.erfc(y/np.sqrt(2))  \n",
    "p2 = ls - rs; print(\"Prob1: {}\".format(p2))"
   ]
  },
  {
   "cell_type": "markdown",
   "metadata": {},
   "source": [
    "### Problem 3 \n",
    "\n",
    "For a standard normal RV with zero mean and unit variance compute\n",
    "\n",
    "$P \\{4 + 2\\mathbf{t} \\gt 8\\}$\n",
    "\n",
    "This should be equivalent to \n",
    "\n",
    "$P \\{\\mathbf{t} \\gt 2\\} \\approx 2.3 \\% $\n",
    "\n",
    "Which matches the intuition that $95\\%$ of the values of the standard normal should be within $2 \\sigma$ and so for a single side test this should this should be close to $2.5\\%$"
   ]
  },
  {
   "cell_type": "code",
   "execution_count": 22,
   "metadata": {},
   "outputs": [
    {
     "name": "stdout",
     "output_type": "stream",
     "text": [
      "prob t > 2 = 0.022750131948179216\n"
     ]
    }
   ],
   "source": [
    "# Prob t > 2\n",
    "p3=0.5 * special.erfc(2/np.sqrt(2)); print(\"prob t > 2 = {}\".format(p3))"
   ]
  },
  {
   "cell_type": "code",
   "execution_count": null,
   "metadata": {},
   "outputs": [],
   "source": []
  }
 ],
 "metadata": {
  "kernelspec": {
   "display_name": "Python 3",
   "language": "python",
   "name": "python3"
  },
  "language_info": {
   "codemirror_mode": {
    "name": "ipython",
    "version": 3
   },
   "file_extension": ".py",
   "mimetype": "text/x-python",
   "name": "python",
   "nbconvert_exporter": "python",
   "pygments_lexer": "ipython3",
   "version": "3.8.5"
  }
 },
 "nbformat": 4,
 "nbformat_minor": 4
}
