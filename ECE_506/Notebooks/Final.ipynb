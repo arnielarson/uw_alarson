{
 "cells": [
  {
   "cell_type": "markdown",
   "metadata": {},
   "source": [
    "Arnie Larson\n",
    "\n",
    "6/8/2022\n",
    "\n",
    "### EEP 506 Final\n"
   ]
  },
  {
   "cell_type": "markdown",
   "metadata": {},
   "source": [
    "\n",
    "### Final Exam Notes\n",
    "\n",
    "Looking at Reed Solomon codes and code word error rates\n",
    "\n",
    "In RS codes, over binary symmetric channel, can define a given bit error probability $p_b$\n",
    "\n",
    "RS codes operate with bytes (or symbol), such that a byte will have a byte error rate of $p_{BE} = 1 - (1 - p_e)^m \\approx m p_e$ if any of it's bits are wrong.\n",
    "\n",
    "In this case, $m = 8$, and I will refer to the symbols as bytes.\n",
    "\n",
    "For $m=8$ RS code words are comprised of $n=255$ bytes with $k$ data bytes and $n-k$ parity checking bytes.  The number of correctable bytes is given by $t = (n-k)/2$\n",
    "\n",
    "A codeword will be in error if anyone of the $n$ (or $L$ shortened) bytes are in error.  If a codeword has more than $t$ errors than it not be correctable for the given RS scheme.  Therefore the uncorrectable error probability for a codeword will be the sum of probabilities of all codeword possible error cases that can't be corrected.  e.g $t+1$ errors, $t+2$ errors, etc..  \n",
    "\n",
    "I found it easy enough to just complete the sum directly in code."
   ]
  },
  {
   "cell_type": "markdown",
   "metadata": {},
   "source": [
    "#### Shortening\n",
    "\n",
    "In our case we want codewords to be 111 bytes, rather than the 255 for RS with $m = 8$.  This will reduce the code rate, with $b=144$ zero bytes, $R_c = (k - b)/(n - b)$"
   ]
  },
  {
   "cell_type": "code",
   "execution_count": 1,
   "metadata": {},
   "outputs": [],
   "source": [
    "import numpy as np\n",
    "import scipy.signal as signal\n",
    "import scipy.special as special\n",
    "import matplotlib \n",
    "import matplotlib.pyplot as plt"
   ]
  },
  {
   "cell_type": "code",
   "execution_count": 35,
   "metadata": {},
   "outputs": [],
   "source": [
    "# Find the RS code word error rate, for a given p, L, t\n",
    "# Calculating the sum of errors for t+1 through L directly\n",
    "def getCWe(L, t, p):\n",
    "    # sum from t+1 to L\n",
    "    Pwe=0\n",
    "    for j in range(t+1,L+1,1):\n",
    "        Pwe+=special.binom(L,j)*(p**j)*((1-p)**(L-j))\n",
    "    return Pwe\n",
    "# get RS code rate (m=8, n=255)\n",
    "def getRC(t, b=0, n=255):\n",
    "    k = n - 2*t\n",
    "    rc = (k-b)/(n-b)\n",
    "    return rc\n"
   ]
  },
  {
   "cell_type": "code",
   "execution_count": 76,
   "metadata": {},
   "outputs": [],
   "source": [
    "## Calculate the code word error rates for various values\n",
    "# L is the length of the codeword, and b is the predetermined length of 0/null data bits sent/not sent.\n",
    "# ps is the approximate symbol/byte error rate given the bit error rate (m * p_b)\n",
    "L=111; b=144;\n",
    "ps=8*0.5 * 1e-2; \n",
    "#keep track of experiment data\n",
    "t_vals = np.zeros(41)\n",
    "pwe_vals = np.zeros(41)\n",
    "overhead_vals = np.zeros(41)\n",
    "for t in range(10,51,1):\n",
    "    t_vals[t-10] = t\n",
    "    pwe_vals[t-10] = getCWe(L, t, ps) \n",
    "    overhead_vals[t-10] = 1-getRC(t, b)\n",
    "    "
   ]
  },
  {
   "cell_type": "code",
   "execution_count": 77,
   "metadata": {},
   "outputs": [
    {
     "name": "stdout",
     "output_type": "stream",
     "text": [
      "pb = 0.5 *10^-2\n",
      "P_WE threshold 10^-6: t=17.0; P_WE=4.6e-07; overhead=0.306\n",
      "P_WE threshold 10^-7: t=18.0; P_WE=9.2e-08; overhead=0.324\n",
      "P_WE threshold 10^-8: t=20.0; P_WE=3.1e-09; overhead=0.36\n",
      "P_WE threshold 10^-9: t=21.0; P_WE=5.3e-10; overhead=0.378\n",
      "P_WE threshold 10^-10: t=22.0; P_WE=8.4e-11; overhead=0.396\n"
     ]
    }
   ],
   "source": [
    "a1=(pwe_vals<1e-6).argmax(); a2=(pwe_vals<1e-7).argmax(); a3=(pwe_vals<1e-8).argmax()\n",
    "a4=(pwe_vals<1e-9).argmax(); a5=(pwe_vals<1e-10).argmax()\n",
    "print(\"pb = 0.5 *10^-2\")\n",
    "print(\"P_WE threshold 10^-6: t={}; P_WE={:.2}; overhead={:.3}\".format(t_vals[a1], pwe_vals[a1], overhead_vals[a1]))\n",
    "print(\"P_WE threshold 10^-7: t={}; P_WE={:.2}; overhead={:.3}\".format(t_vals[a2], pwe_vals[a2], overhead_vals[a2]))\n",
    "print(\"P_WE threshold 10^-8: t={}; P_WE={:.2}; overhead={:.3}\".format(t_vals[a3], pwe_vals[a3], overhead_vals[a3]))\n",
    "print(\"P_WE threshold 10^-9: t={}; P_WE={:.2}; overhead={:.3}\".format(t_vals[a4], pwe_vals[a4], overhead_vals[a4]))\n",
    "print(\"P_WE threshold 10^-10: t={}; P_WE={:.2}; overhead={:.3}\".format(t_vals[a5], pwe_vals[a5], overhead_vals[a5]))"
   ]
  },
  {
   "cell_type": "code",
   "execution_count": 68,
   "metadata": {},
   "outputs": [],
   "source": [
    "L=111; b=144;\n",
    "ps=8*0.5 * 1e-3; \n",
    "#keep track of experiment data\n",
    "t_vals = np.zeros(20)\n",
    "pwe_vals = np.zeros(20)\n",
    "overhead_vals = np.zeros(20)\n",
    "for t in range(1,21,1):\n",
    "    t_vals[t-1] = t\n",
    "    pwe_vals[t-1] = getCWe(L, t, ps) \n",
    "    overhead_vals[t-1] = 1-getRC(t, b)\n",
    "    "
   ]
  },
  {
   "cell_type": "code",
   "execution_count": 69,
   "metadata": {},
   "outputs": [
    {
     "name": "stdout",
     "output_type": "stream",
     "text": [
      "pb = 0.5 *10^-3\n",
      "P_WE threshold 10^-6: t=6.0; P_WE=3.9e-07; overhead=0.108\n",
      "P_WE threshold 10^-7: t=7.0; P_WE=2e-08; overhead=0.126\n",
      "P_WE threshold 10^-8: t=8.0; P_WE=9.2e-10; overhead=0.144\n",
      "P_WE threshold 10^-9: t=8.0; P_WE=9.2e-10; overhead=0.144\n",
      "P_WE threshold 10^-10: t=9.0; P_WE=3.7e-11; overhead=0.162\n"
     ]
    }
   ],
   "source": [
    "a1=(pwe_vals<1e-6).argmax(); a2=(pwe_vals<1e-7).argmax(); a3=(pwe_vals<1e-8).argmax()\n",
    "a4=(pwe_vals<1e-9).argmax(); a5=(pwe_vals<1e-10).argmax()\n",
    "print(\"pb = 0.5 *10^-3\")\n",
    "print(\"P_WE threshold 10^-6: t={}; P_WE={:.2}; overhead={:.3}\".format(t_vals[a1], pwe_vals[a1], overhead_vals[a1]))\n",
    "print(\"P_WE threshold 10^-7: t={}; P_WE={:.2}; overhead={:.3}\".format(t_vals[a2], pwe_vals[a2], overhead_vals[a2]))\n",
    "print(\"P_WE threshold 10^-8: t={}; P_WE={:.2}; overhead={:.3}\".format(t_vals[a3], pwe_vals[a3], overhead_vals[a3]))\n",
    "print(\"P_WE threshold 10^-9: t={}; P_WE={:.2}; overhead={:.3}\".format(t_vals[a4], pwe_vals[a4], overhead_vals[a4]))\n",
    "print(\"P_WE threshold 10^-10: t={}; P_WE={:.2}; overhead={:.3}\".format(t_vals[a5], pwe_vals[a5], overhead_vals[a5]))"
   ]
  },
  {
   "cell_type": "code",
   "execution_count": 70,
   "metadata": {},
   "outputs": [],
   "source": [
    "L=111; b=144;\n",
    "ps=8*0.5 * 1e-4; \n",
    "#keep track of experiment data\n",
    "t_vals = np.zeros(20)\n",
    "pwe_vals = np.zeros(20)\n",
    "overhead_vals = np.zeros(20)\n",
    "for t in range(1,21,1):\n",
    "    t_vals[t-1] = t\n",
    "    pwe_vals[t-1] = getCWe(L, t, ps) \n",
    "    overhead_vals[t-1] = 1-getRC(t, b)\n",
    "    "
   ]
  },
  {
   "cell_type": "code",
   "execution_count": 72,
   "metadata": {},
   "outputs": [
    {
     "name": "stdout",
     "output_type": "stream",
     "text": [
      "pb = 0.5 *10^-4\n",
      "P_WE threshold 10^-6: t=3.0; P_WE=1.5e-07; overhead=0.0541\n",
      "P_WE threshold 10^-7: t=4.0; P_WE=1.3e-09; overhead=0.0721\n",
      "P_WE threshold 10^-8: t=4.0; P_WE=1.3e-09; overhead=0.0721\n",
      "P_WE threshold 10^-9: t=5.0; P_WE=8.9e-12; overhead=0.0901\n",
      "P_WE threshold 10^-10: t=5.0; P_WE=8.9e-12; overhead=0.0901\n"
     ]
    }
   ],
   "source": [
    "a1=(pwe_vals<1e-6).argmax(); a2=(pwe_vals<1e-7).argmax(); a3=(pwe_vals<1e-8).argmax()\n",
    "a4=(pwe_vals<1e-9).argmax(); a5=(pwe_vals<1e-10).argmax()\n",
    "print(\"pb = 0.5 *10^-4\")\n",
    "print(\"P_WE threshold 10^-6: t={}; P_WE={:.2}; overhead={:.3}\".format(t_vals[a1], pwe_vals[a1], overhead_vals[a1]))\n",
    "print(\"P_WE threshold 10^-7: t={}; P_WE={:.2}; overhead={:.3}\".format(t_vals[a2], pwe_vals[a2], overhead_vals[a2]))\n",
    "print(\"P_WE threshold 10^-8: t={}; P_WE={:.2}; overhead={:.3}\".format(t_vals[a3], pwe_vals[a3], overhead_vals[a3]))\n",
    "print(\"P_WE threshold 10^-9: t={}; P_WE={:.2}; overhead={:.3}\".format(t_vals[a4], pwe_vals[a4], overhead_vals[a4]))\n",
    "print(\"P_WE threshold 10^-10: t={}; P_WE={:.2}; overhead={:.3}\".format(t_vals[a5], pwe_vals[a5], overhead_vals[a5]))"
   ]
  },
  {
   "cell_type": "code",
   "execution_count": 74,
   "metadata": {},
   "outputs": [],
   "source": [
    "L=111; b=144;\n",
    "ps=8*0.5 * 1e-5; \n",
    "#keep track of experiment data\n",
    "t_vals = np.zeros(20)\n",
    "pwe_vals = np.zeros(20)\n",
    "overhead_vals = np.zeros(20)\n",
    "for t in range(1,21,1):\n",
    "    t_vals[t-1] = t\n",
    "    pwe_vals[t-1] = getCWe(L, t, ps) \n",
    "    overhead_vals[t-1] = 1-getRC(t, b)"
   ]
  },
  {
   "cell_type": "code",
   "execution_count": 75,
   "metadata": {},
   "outputs": [
    {
     "name": "stdout",
     "output_type": "stream",
     "text": [
      "pb = 0.5 *10^-5\n",
      "P_WE threshold 10^-6: t=2.0; P_WE=1.4e-08; overhead=0.036\n",
      "P_WE threshold 10^-7: t=2.0; P_WE=1.4e-08; overhead=0.036\n",
      "P_WE threshold 10^-8: t=3.0; P_WE=1.5e-11; overhead=0.0541\n",
      "P_WE threshold 10^-9: t=3.0; P_WE=1.5e-11; overhead=0.0541\n",
      "P_WE threshold 10^-10: t=3.0; P_WE=1.5e-11; overhead=0.0541\n"
     ]
    }
   ],
   "source": [
    "a1=(pwe_vals<1e-6).argmax(); a2=(pwe_vals<1e-7).argmax(); a3=(pwe_vals<1e-8).argmax()\n",
    "a4=(pwe_vals<1e-9).argmax(); a5=(pwe_vals<1e-10).argmax()\n",
    "print(\"pb = 0.5 *10^-5\")\n",
    "print(\"P_WE threshold 10^-6: t={}; P_WE={:.2}; overhead={:.3}\".format(t_vals[a1], pwe_vals[a1], overhead_vals[a1]))\n",
    "print(\"P_WE threshold 10^-7: t={}; P_WE={:.2}; overhead={:.3}\".format(t_vals[a2], pwe_vals[a2], overhead_vals[a2]))\n",
    "print(\"P_WE threshold 10^-8: t={}; P_WE={:.2}; overhead={:.3}\".format(t_vals[a3], pwe_vals[a3], overhead_vals[a3]))\n",
    "print(\"P_WE threshold 10^-9: t={}; P_WE={:.2}; overhead={:.3}\".format(t_vals[a4], pwe_vals[a4], overhead_vals[a4]))\n",
    "print(\"P_WE threshold 10^-10: t={}; P_WE={:.2}; overhead={:.3}\".format(t_vals[a5], pwe_vals[a5], overhead_vals[a5]))"
   ]
  },
  {
   "cell_type": "code",
   "execution_count": null,
   "metadata": {},
   "outputs": [],
   "source": []
  }
 ],
 "metadata": {
  "kernelspec": {
   "display_name": "Python 3",
   "language": "python",
   "name": "python3"
  },
  "language_info": {
   "codemirror_mode": {
    "name": "ipython",
    "version": 3
   },
   "file_extension": ".py",
   "mimetype": "text/x-python",
   "name": "python",
   "nbconvert_exporter": "python",
   "pygments_lexer": "ipython3",
   "version": "3.8.5"
  }
 },
 "nbformat": 4,
 "nbformat_minor": 4
}
