{
 "cells": [
  {
   "cell_type": "markdown",
   "metadata": {},
   "source": [
    "<b>Arnie Larson<br/>\n",
    "Acoustics Homework Notes<br/>\n",
    "</b>\n",
    "\n",
    "\n",
    "#### HW 1\n",
    "\n",
    "- 6 problems\n",
    "- SPL, sound pressure level is the log10 of the RMS pressure squared (relative to 1 or 20 micro Pa typically)\n",
    "- in linear acoustics (very small fluctuations) Pressure, particle velocity and displacement are all related"
   ]
  },
  {
   "cell_type": "code",
   "execution_count": 1,
   "metadata": {},
   "outputs": [],
   "source": [
    "import numpy as np"
   ]
  },
  {
   "cell_type": "code",
   "execution_count": 10,
   "metadata": {},
   "outputs": [
    {
     "name": "stdout",
     "output_type": "stream",
     "text": [
      "Middle c k: 4.78 1/m; lambda: 1.31 m (343m/s)\n",
      "Middle c k: 1.09 1/m; lambda: 5.75 m (1500/s)\n",
      "Bat echo k: 366.37 1/m; lambda: 0.017 m (343m/s)\n",
      "Bat echo k: 83.78 1/m; lambda: 0.075 m (1500/s)\n",
      "Ultrasou k: 54954.97 1/m; lambda: 0.00011 m (343m/s) (wow - sub mm)\n",
      "Ultrasou k: 12566.37 1/m; lambda: 0.00050 m (1500/s)\n"
     ]
    }
   ],
   "source": [
    "# 1 - calculate the wavenumber k and wavelength for a few sources/mediums\n",
    "# middle C: 261 Hz; bat echo location ~20kHz; ultrasound ~ 3MHz; \n",
    "# for c = 1500 m/s (water) and 343 m/s (air)\n",
    "# k = 2pi/lambda, lambda = c/f\n",
    "\n",
    "print(\"Middle c k: {:.2f} 1/m; lambda: {:.2f} m (343m/s)\".format(2*np.pi*261/343, 343/261))\n",
    "print(\"Middle c k: {:.2f} 1/m; lambda: {:.2f} m (1500/s)\".format(2*np.pi*261/1500, 1500/261))\n",
    "print(\"Bat echo k: {:.2f} 1/m; lambda: {:.3f} m (343m/s)\".format(2*np.pi*20e3/343, 343/20e3))\n",
    "print(\"Bat echo k: {:.2f} 1/m; lambda: {:.3f} m (1500/s)\".format(2*np.pi*20e3/1500, 1500/20e3))\n",
    "print(\"Ultrasou k: {:.2f} 1/m; lambda: {:.5f} m (343m/s) (wow - sub mm)\".format(2*np.pi*3e6/343, 343/3e6))\n",
    "print(\"Ultrasou k: {:.2f} 1/m; lambda: {:.5f} m (1500/s)\".format(2*np.pi*3e6/1500, 1500/3e6))\n"
   ]
  },
  {
   "cell_type": "code",
   "execution_count": 15,
   "metadata": {},
   "outputs": [
    {
     "name": "stdout",
     "output_type": "stream",
     "text": [
      "In air, SPL: 57.501\n",
      "In water, SPL: 83.522\n"
     ]
    }
   ],
   "source": [
    "# 3 - SPL (Sound Pressure Level) relative to 1 or 20 micro Pa \n",
    "# SPL = 10*log10(p^2/p0^2)\n",
    "# P ~ 0.015Pa\n",
    "print(\"In air, SPL: {:.3f}\".format(10*np.log10(0.015**2/(20e-6**2))))\n",
    "print(\"In water, SPL: {:.3f}\".format(10*np.log10(0.015**2/(1e-6**2))))"
   ]
  },
  {
   "cell_type": "code",
   "execution_count": 23,
   "metadata": {},
   "outputs": [
    {
     "name": "stdout",
     "output_type": "stream",
     "text": [
      "p1: 0.0020, p2: 0.0025, p3: 0.0080\n",
      "P1: 0.0020; P_ave: 0.0042\n",
      "SPL of average: 46.361263\n"
     ]
    }
   ],
   "source": [
    "# 4 - 3 measurements relative to 20 micro Pa; 40, 42, 52\n",
    "# SPL = 10*log10(p^2/p0^2) => p^2 = p0^2 *10^(SPL/10)\n",
    "p1=np.sqrt(4e-10 * 10**4)\n",
    "p2=np.sqrt(4e-10 * 10**4.2)\n",
    "p3=np.sqrt(4e-10 * 10**5.2)\n",
    "print(\"p1: {:.4f}, p2: {:.4f}, p3: {:.4f}\".format(p1,p2,p3))\n",
    "pa=(p1+p2+p3)/3\n",
    "print(\"P1: {:.4f}; P_ave: {:.4f}\".format(p1,pa))\n",
    "SPLA=10*np.log10(pa**2/4e-10)\n",
    "print(\"SPL of average: {:3f}\".format(SPLA))"
   ]
  },
  {
   "cell_type": "code",
   "execution_count": 14,
   "metadata": {},
   "outputs": [
    {
     "data": {
      "text/plain": [
       "1e-12"
      ]
     },
     "execution_count": 14,
     "metadata": {},
     "output_type": "execute_result"
    }
   ],
   "source": [
    "1e-6**2"
   ]
  },
  {
   "cell_type": "code",
   "execution_count": 18,
   "metadata": {},
   "outputs": [
    {
     "data": {
      "text/plain": [
       "4.0000000000000007e-10"
      ]
     },
     "execution_count": 18,
     "metadata": {},
     "output_type": "execute_result"
    }
   ],
   "source": [
    "20e-6**2"
   ]
  },
  {
   "cell_type": "code",
   "execution_count": 46,
   "metadata": {},
   "outputs": [
    {
     "name": "stdout",
     "output_type": "stream",
     "text": [
      "Period T = 0.00079\n",
      "Air: max particle velocity: 0.0034358930086809893 m/s, max displacement: 2.73419678133232e-07 m\n",
      "Water: max particle velocity: 9.198136991044521e-07 m/s, max displacement: 7.31964484680574e-11 m\n",
      "Mercury: max particle velocity: 7.224590356950677e-08 m/s, max displacement: 5.749146335613705e-12 m\n"
     ]
    }
   ],
   "source": [
    "# 5 - calculate the particle velocity and displacement for a few different values\n",
    "# from equations of motion (linear, acoustic) v ~ P/(c*rho);  displacement ~ -P/(omega*c*rho)\n",
    "#\n",
    "# Air, rho = 1.2 kg/m^3, c = 343 m/s, f = 2kHz, P = 1Pa\n",
    "# Water, rho = 1025 kg/m^3, c = 1500 m/s, f = 2kHz\n",
    "# Mercury, rho = 13500 kg/m^3, c = 1450 m/s, f = 2kHz\n",
    "# Period T = 2pi/omega\n",
    "print(\"Period T = {:.5f}\".format(np.pi/4000))\n",
    "\n",
    "Vma = np.sqrt(2)/(343*1.2)\n",
    "dma = np.sqrt(2)/(2*np.pi*2000*343*1.2)\n",
    "print(\"Air: max particle velocity: {} m/s, max displacement: {} m\".format(Vma,dma))\n",
    "Vmw = np.sqrt(2)/(1500*1025)\n",
    "dmw = np.sqrt(2)/(2*np.pi*2000*1500*1025)\n",
    "print(\"Water: max particle velocity: {} m/s, max displacement: {} m\".format(Vmw,dmw))\n",
    "Vmm = np.sqrt(2)/(1450*13500)\n",
    "dmm = np.sqrt(2)/(2*np.pi*2000*1450*13500)\n",
    "print(\"Mercury: max particle velocity: {} m/s, max displacement: {} m\".format(Vmm,dmm))\n",
    "\n"
   ]
  },
  {
   "cell_type": "code",
   "execution_count": 47,
   "metadata": {},
   "outputs": [
    {
     "name": "stdout",
     "output_type": "stream",
     "text": [
      "0db re 20 micro Pa: Prms=20.0000, vrms=0.0486, drms=0.01546695\n",
      "30db re 20 micro Pa: Prms=20000.0000, vrms=48.5909, drms=0.01546695\n",
      "70db re 20 micro Pa: Prms=200.0000, vrms=0.4859, drms=0.00015467\n"
     ]
    }
   ],
   "source": [
    "# 6 - Calculate RMS values of pressure, velocity, displacement in air for \n",
    "# f = 500 Hz, v = 343 m/s, rho = 1.2 kg/m^3\n",
    "# RMS Pressures of 0, 20, 70 dB re 20micro Pa\n",
    "# SPL = 10 log10 ( p^2/p0^2) => p^2 = 10^(SPL/10) * P0\n",
    "c=343; rho=1.2; f=500;\n",
    "p0rms = 20e-6 * 10**(0/10.0)\n",
    "v0rms = p0rms/(c*rho)\n",
    "d0rms = p0rms/(c*rho*np.pi*2*f)\n",
    "print(\"0db re 20 micro Pa: Prms={:.4f}, vrms={:.4f}, drms={:.8f}\".format(p0rms*1e6, v0rms*1e6, d0rms*1e9))\n",
    "p0rms = 20e-6 * 10**(30/10.0)\n",
    "v0rms = p0rms/(c*rho)\n",
    "d0rms = p0rms/(c*rho*np.pi*2*f)\n",
    "print(\"30db re 20 micro Pa: Prms={:.4f}, vrms={:.4f}, drms={:.8f}\".format(p0rms*1e6, v0rms*1e6, d0rms*1e6))\n",
    "p0rms = 20e-6 * 10**(70/10.0)\n",
    "v0rms = p0rms/(c*rho)\n",
    "d0rms = p0rms/(c*rho*np.pi*2*f)\n",
    "print(\"70db re 20 micro Pa: Prms={:.4f}, vrms={:.4f}, drms={:.8f}\".format(p0rms, v0rms, d0rms))"
   ]
  },
  {
   "cell_type": "code",
   "execution_count": null,
   "metadata": {},
   "outputs": [],
   "source": [
    "10"
   ]
  }
 ],
 "metadata": {
  "kernelspec": {
   "display_name": "Python 3",
   "language": "python",
   "name": "python3"
  },
  "language_info": {
   "codemirror_mode": {
    "name": "ipython",
    "version": 3
   },
   "file_extension": ".py",
   "mimetype": "text/x-python",
   "name": "python",
   "nbconvert_exporter": "python",
   "pygments_lexer": "ipython3",
   "version": "3.8.5"
  }
 },
 "nbformat": 4,
 "nbformat_minor": 4
}
