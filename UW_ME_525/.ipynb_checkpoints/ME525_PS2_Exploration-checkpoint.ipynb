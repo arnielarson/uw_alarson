{
 "cells": [
  {
   "cell_type": "markdown",
   "metadata": {},
   "source": [
    "### Problem 6-2 - Exploration work\n",
    "\n",
    "\n",
    "Initial Problem, look at Lloyds Mirror effect in the vessel noise stanard.\n",
    "For a set of frequencies, look at variations in RL at the three hydrophone locations.\n",
    "\n",
    "Vessel: h=2m, modeled as a point source\n",
    "Hydrophones: h=27m, 58m, 100m\n",
    "\n",
    "Plot a table of RL vs fc and h.\n",
    "\n",
    "Model sound at d.  Just 2 distances involved in deep water.   Pressure release BC's mean reflection will be phase shifted by $\\pi$.   \n",
    "\n",
    "What is coefficient of model?    160 db re 1uPa^2 at 1m means that 20 log A/ref = 160 implies that A = Pref * 10^8 uPa RMS, so none RMS would be A/sqrt(2).  \n",
    "\n",
    "This yields a value of A of sqrt(2)*100 Pa * m, or A = 144.4 Pa m\n",
    "\n",
    "Now we can make a coherent sum of the 2 terms to get estimate for pressure at the different hydrophones / frequencies.\n",
    "\n",
    "\n",
    "\n"
   ]
  },
  {
   "cell_type": "code",
   "execution_count": 2,
   "metadata": {},
   "outputs": [],
   "source": [
    "import numpy as np\n",
    "import matplotlib.pyplot as plt\n",
    "from scipy.fft import fft, fftfreq\n",
    "from scipy import signal\n",
    "import scipy.io as io\n",
    "import os"
   ]
  },
  {
   "cell_type": "code",
   "execution_count": 15,
   "metadata": {},
   "outputs": [
    {
     "name": "stdout",
     "output_type": "stream",
     "text": [
      "0, first 1/3 octave band: 10.000\n",
      "1, next 1/3 octave band: 14.142\n",
      "2, next 1/3 octave band: 20.000\n",
      "3, next 1/3 octave band: 28.284\n",
      "4, next 1/3 octave band: 40.000\n",
      "5, next 1/3 octave band: 56.569\n",
      "6, next 1/3 octave band: 80.000\n",
      "7, next 1/3 octave band: 113.137\n",
      "8, next 1/3 octave band: 160.000\n",
      "9, next 1/3 octave band: 226.274\n",
      "10, next 1/3 octave band: 320.000\n",
      "11, next 1/3 octave band: 452.548\n",
      "12, next 1/3 octave band: 640.000\n",
      "13, next 1/3 octave band: 905.097\n",
      "14, next 1/3 octave band: 1280.000\n",
      "15, next 1/3 octave band: 1810.193\n",
      "16, next 1/3 octave band: 2560.000\n",
      "17, next 1/3 octave band: 3620.387\n",
      "18, next 1/3 octave band: 5120.000\n",
      "19, next 1/3 octave band: 7240.773\n",
      "20, next 1/3 octave band: 10240.000\n"
     ]
    }
   ],
   "source": [
    "# generate [n,fmin, fx, fmax] tuples, effectively in a 16 x 4 \n",
    "# 1/3 octave bands, starting at 10 Hz\n",
    "\n",
    "fc = 10\n",
    "f = [fc]\n",
    "print(\"0, first 1/3 octave band: {:.3f}\".format(fc))\n",
    "for n in range(1,21):\n",
    "    fc*=np.sqrt(2)\n",
    "    f.append(fc)\n",
    "    print(\"{}, next 1/3 octave band: {:.3f}\".format(n, fc))\n"
   ]
  },
  {
   "cell_type": "code",
   "execution_count": 14,
   "metadata": {},
   "outputs": [
    {
     "name": "stdout",
     "output_type": "stream",
     "text": [
      "A = Arms * sqrt(2) = 141.421 [Pa m]\n",
      "Arms = A/sqrt(2) = 100.0 [Pa m]\n"
     ]
    }
   ],
   "source": [
    "# What is value of A in spherical point source model?\n",
    "# 160 db = 20 log (Arms / Pref)\n",
    "Arms = 1e-6 * 10**8\n",
    "# So for model of real pressure, \n",
    "print(\"A = Arms * sqrt(2) = {:.3f} [Pa m]\".format(Arms*np.sqrt(2)))\n",
    "print(\"Arms = A/sqrt(2) = {:.1f} [Pa m]\".format(Arms))"
   ]
  },
  {
   "cell_type": "code",
   "execution_count": 18,
   "metadata": {},
   "outputs": [],
   "source": [
    "# Now do first calculation\n",
    "\n"
   ]
  },
  {
   "cell_type": "code",
   "execution_count": null,
   "metadata": {},
   "outputs": [],
   "source": []
  }
 ],
 "metadata": {
  "kernelspec": {
   "display_name": "Python 3",
   "language": "python",
   "name": "python3"
  },
  "language_info": {
   "codemirror_mode": {
    "name": "ipython",
    "version": 3
   },
   "file_extension": ".py",
   "mimetype": "text/x-python",
   "name": "python",
   "nbconvert_exporter": "python",
   "pygments_lexer": "ipython3",
   "version": "3.8.5"
  }
 },
 "nbformat": 4,
 "nbformat_minor": 4
}
