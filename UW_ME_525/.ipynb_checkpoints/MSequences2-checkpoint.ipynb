{
 "cells": [
  {
   "cell_type": "markdown",
   "metadata": {},
   "source": [
    "### M Sequences 2\n",
    "\n",
    "Can I generate my own m sequence?\n",
    "\n",
    "Start with a carrier frequency.  $f_c = 75Hz$\n",
    "\n",
    "Given a time for the sequence $Q=2 \\rightarrow T_s = Q / f_c$\n",
    "\n",
    "And given a m sequence (1023 digital points)"
   ]
  },
  {
   "cell_type": "code",
   "execution_count": null,
   "metadata": {},
   "outputs": [],
   "source": []
  }
 ],
 "metadata": {
  "kernelspec": {
   "display_name": "Python 3",
   "language": "python",
   "name": "python3"
  },
  "language_info": {
   "codemirror_mode": {
    "name": "ipython",
    "version": 3
   },
   "file_extension": ".py",
   "mimetype": "text/x-python",
   "name": "python",
   "nbconvert_exporter": "python",
   "pygments_lexer": "ipython3",
   "version": "3.8.5"
  }
 },
 "nbformat": 4,
 "nbformat_minor": 4
}
