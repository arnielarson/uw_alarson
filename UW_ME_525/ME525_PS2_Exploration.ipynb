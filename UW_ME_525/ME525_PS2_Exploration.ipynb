{
 "cells": [
  {
   "cell_type": "markdown",
   "metadata": {},
   "source": [
    "### Problem 6-2 - Exploration work\n",
    "\n",
    "\n",
    "Initial Problem, look at Lloyds Mirror effect in the vessel noise standard.\n",
    "For a set of frequencies, look at variations in RL at the three hydrophone locations.\n",
    "\n",
    "Vessel: h=2m, modeled as a point source\n",
    "Hydrophones: h=27m, 58m, 100m\n",
    "\n",
    "Plot a table of RL vs fc and h.\n",
    "\n",
    "Model sound at d.  Just 2 distances involved in deep water.   Pressure release BC's mean reflection will be phase shifted by $\\pi$.   \n",
    "\n",
    "What is coefficient of model?    160 db re 1uPa^2 at 1m means that 20 log A/ref = 160 implies that A = Pref * 10^8 uPa RMS, so none RMS would be A/sqrt(2).  \n",
    "\n",
    "This yields a value of A of sqrt(2)*100 Pa * m, or A = 144.4 Pa m\n",
    "\n",
    "Now we can make a coherent sum of the 2 terms to get estimate for pressure at the different hydrophones / frequencies.\n",
    "\n",
    "\n",
    "\n"
   ]
  },
  {
   "cell_type": "code",
   "execution_count": 2,
   "metadata": {},
   "outputs": [],
   "source": [
    "import numpy as np\n",
    "import matplotlib.pyplot as plt\n",
    "from scipy.fft import fft, fftfreq\n",
    "from scipy import signal\n",
    "import scipy.io as io\n",
    "import os"
   ]
  },
  {
   "cell_type": "code",
   "execution_count": 22,
   "metadata": {},
   "outputs": [
    {
     "name": "stdout",
     "output_type": "stream",
     "text": [
      "0, first 1/3 octave band: 100.000\n",
      "1, next 1/3 octave band: 125.992\n",
      "2, next 1/3 octave band: 158.740\n",
      "3, next 1/3 octave band: 200.000\n",
      "4, next 1/3 octave band: 251.984\n",
      "5, next 1/3 octave band: 317.480\n",
      "6, next 1/3 octave band: 400.000\n",
      "7, next 1/3 octave band: 503.968\n",
      "8, next 1/3 octave band: 634.960\n",
      "9, next 1/3 octave band: 800.000\n",
      "10, next 1/3 octave band: 1007.937\n",
      "11, next 1/3 octave band: 1269.921\n",
      "12, next 1/3 octave band: 1600.000\n",
      "13, next 1/3 octave band: 2015.874\n",
      "14, next 1/3 octave band: 2539.842\n",
      "15, next 1/3 octave band: 3200.000\n",
      "16, next 1/3 octave band: 4031.747\n",
      "17, next 1/3 octave band: 5079.683\n",
      "18, next 1/3 octave band: 6400.000\n",
      "19, next 1/3 octave band: 8063.495\n",
      "20, next 1/3 octave band: 10159.367\n"
     ]
    }
   ],
   "source": [
    "# generate [n,fmin, fx, fmax] tuples, effectively in a 16 x 4 \n",
    "# 1/3 octave bands, starting at 100 Hz\n",
    "# each band increases by 2**1/3\n",
    "\n",
    "fc = 100\n",
    "f = [fc]\n",
    "print(\"0, first 1/3 octave band: {:.3f}\".format(fc))\n",
    "for n in range(1,21):\n",
    "    fc*=np.power(2,1/3)\n",
    "    f.append(fc)\n",
    "    print(\"{}, next 1/3 octave band: {:.3f}\".format(n, fc))\n"
   ]
  },
  {
   "cell_type": "code",
   "execution_count": 14,
   "metadata": {},
   "outputs": [
    {
     "name": "stdout",
     "output_type": "stream",
     "text": [
      "A = Arms * sqrt(2) = 141.421 [Pa m]\n",
      "Arms = A/sqrt(2) = 100.0 [Pa m]\n"
     ]
    }
   ],
   "source": [
    "# What is value of A in spherical point source model?\n",
    "# 160 db = 20 log (Arms / Pref)\n",
    "Arms = 1e-6 * 10**8\n",
    "# So for model of real pressure, \n",
    "print(\"A = Arms * sqrt(2) = {:.3f} [Pa m]\".format(Arms*np.sqrt(2)))\n",
    "print(\"Arms = A/sqrt(2) = {:.1f} [Pa m]\".format(Arms))"
   ]
  },
  {
   "cell_type": "code",
   "execution_count": 36,
   "metadata": {},
   "outputs": [],
   "source": [
    "# Now do first calculation\n",
    "# A    = 141.4 Pa m\n",
    "# rho = 1025 kg/m^3\n",
    "# c   = 1500 m/s\n",
    "# k = 2 pi / lambda = 2 pi f / c\n",
    "c = 1500\n",
    "k = np.array(f)*2*np.pi/c \n",
    "A = 141.42 \n",
    "d = 100           # distance (along x axis)\n",
    "h = np.array([27,58,100])   # depth of hydrophone\n",
    "z = 2             # depth of source"
   ]
  },
  {
   "cell_type": "code",
   "execution_count": 41,
   "metadata": {},
   "outputs": [],
   "source": [
    "P = np.zeros((21,3), dtype=np.csingle)\n",
    "for i in range(h.shape[0]):\n",
    "    r1 = np.sqrt(d**2 + (z-h[i])**2)\n",
    "    r2 = np.sqrt(d**2 + (-z-h[i])**2)\n",
    "    P[:,i] = A*(np.exp(1j * k * r1)/r1 - np.exp(1j * k * r2)/r2 ) "
   ]
  },
  {
   "cell_type": "code",
   "execution_count": 43,
   "metadata": {},
   "outputs": [],
   "source": [
    "RL = 10 * np.log10(np.abs(0.5*P*np.conjugate(P))/1e-12)"
   ]
  },
  {
   "cell_type": "code",
   "execution_count": 64,
   "metadata": {},
   "outputs": [
    {
     "name": "stdout",
     "output_type": "stream",
     "text": [
      "| Freq [Hz]\tk [1/m]\th1 = 27 [m]\th2 = 58 [m]\th3 = 100 [m]\t\t|\n",
      "| 100.0\t\t0.4\t112.43 [dB]\t116.98 [dB]\t117.95 [dB]\t|\n",
      "| 126.0\t\t0.5\t114.39 [dB]\t118.83 [dB]\t119.65 [dB]\t|\n",
      "| 158.7\t\t0.7\t116.34 [dB]\t120.59 [dB]\t121.16 [dB]\t|\n",
      "| 200.0\t\t0.8\t118.24 [dB]\t122.20 [dB]\t122.35 [dB]\t|\n",
      "| 252.0\t\t1.1\t120.08 [dB]\t123.57 [dB]\t122.98 [dB]\t|\n",
      "| 317.5\t\t1.3\t121.82 [dB]\t124.52 [dB]\t122.59 [dB]\t|\n",
      "| 400.0\t\t1.7\t123.40 [dB]\t124.71 [dB]\t119.88 [dB]\t|\n",
      "| 504.0\t\t2.1\t124.71 [dB]\t123.39 [dB]\t106.87 [dB]\t|\n",
      "| 635.0\t\t2.7\t125.57 [dB]\t117.93 [dB]\t118.29 [dB]\t|\n",
      "| 800.0\t\t3.4\t125.58 [dB]\t111.57 [dB]\t123.01 [dB]\t|\n",
      "| 1007.9\t4.2\t123.86 [dB]\t123.74 [dB]\t112.77 [dB]\t|\n",
      "| 1269.9\t5.3\t116.85 [dB]\t122.94 [dB]\t122.52 [dB]\t|\n",
      "| 1600.0\t6.7\t116.46 [dB]\t117.37 [dB]\t97.63 [dB]\t|\n",
      "| 2015.9\t8.4\t125.29 [dB]\t122.98 [dB]\t118.36 [dB]\t|\n",
      "| 2539.8\t10.6\t122.27 [dB]\t124.30 [dB]\t118.80 [dB]\t|\n",
      "| 3200.0\t13.4\t121.93 [dB]\t122.52 [dB]\t103.52 [dB]\t|\n",
      "| 4031.7\t16.9\t121.02 [dB]\t124.27 [dB]\t122.56 [dB]\t|\n",
      "| 5079.7\t21.3\t125.67 [dB]\t120.32 [dB]\t122.75 [dB]\t|\n",
      "| 6400.0\t26.8\t125.60 [dB]\t124.60 [dB]\t109.47 [dB]\t|\n",
      "| 8063.5\t33.8\t125.24 [dB]\t120.61 [dB]\t118.54 [dB]\t|\n",
      "| 10159.4\t42.6\t111.26 [dB]\t124.40 [dB]\t116.45 [dB]\t|\n"
     ]
    }
   ],
   "source": [
    "# todo turn into print function\n",
    "print(\"| Freq [Hz]\\tk [1/m]\\th1 = {} [m]\\th2 = {} [m]\\th3 = {} [m]\\t\\t|\".format(h[0], h[1], h[2]))\n",
    "for i in range(RL.shape[0]):\n",
    "    if i <= 9:\n",
    "        print(\"| {:.1f}\\t\\t{:.1f}\\t{:.2f} [dB]\\t{:.2f} [dB]\\t{:.2f} [dB]\\t|\".format(\n",
    "            f[i], k[i], RL[i,0], RL[i,1], RL[i,2]\n",
    "        ))\n",
    "    else:\n",
    "        print(\"| {:.1f}\\t{:.1f}\\t{:.2f} [dB]\\t{:.2f} [dB]\\t{:.2f} [dB]\\t|\".format(\n",
    "            f[i], k[i], RL[i,0], RL[i,1], RL[i,2]\n",
    "        ))\n",
    "    "
   ]
  },
  {
   "cell_type": "code",
   "execution_count": null,
   "metadata": {},
   "outputs": [],
   "source": []
  }
 ],
 "metadata": {
  "kernelspec": {
   "display_name": "Python 3",
   "language": "python",
   "name": "python3"
  },
  "language_info": {
   "codemirror_mode": {
    "name": "ipython",
    "version": 3
   },
   "file_extension": ".py",
   "mimetype": "text/x-python",
   "name": "python",
   "nbconvert_exporter": "python",
   "pygments_lexer": "ipython3",
   "version": "3.8.5"
  }
 },
 "nbformat": 4,
 "nbformat_minor": 4
}
